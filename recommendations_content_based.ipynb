{
  "cells": [
    {
      "cell_type": "code",
      "execution_count": 1,
      "metadata": {
        "id": "W22FtEz531hC"
      },
      "outputs": [],
      "source": [
        "import numpy as np\n",
        "import pandas as pd"
      ]
    },
    {
      "cell_type": "code",
      "execution_count": 2,
      "metadata": {
        "colab": {
          "base_uri": "https://localhost:8080/"
        },
        "id": "D7s8_zb9TZUy",
        "outputId": "19474a9d-920b-492f-f06b-75fb91297d89"
      },
      "outputs": [],
      "source": [
        "# from google.colab import drive\n",
        "\n",
        "# drive.mount('/content/G_directionalrive')"
      ]
    },
    {
      "cell_type": "code",
      "execution_count": 3,
      "metadata": {
        "id": "reM0Wh_fTgYp"
      },
      "outputs": [],
      "source": [
        "DIR1 = \"F:/UB/5. Independent Study/archive/movies_metadata.csv\""
      ]
    },
    {
      "cell_type": "code",
      "execution_count": 4,
      "metadata": {
        "colab": {
          "base_uri": "https://localhost:8080/"
        },
        "id": "1fP7vpIsUA_t",
        "outputId": "5139d886-d044-4212-9641-4c0ee8399df4"
      },
      "outputs": [
        {
          "name": "stderr",
          "output_type": "stream",
          "text": [
            "C:\\Users\\nayak\\AppData\\Local\\Temp\\ipykernel_20412\\279219830.py:1: DtypeWarning: Columns (10) have mixed types. Specify dtype option on import or set low_memory=False.\n",
            "  movies_data = pd.read_csv(DIR1)\n"
          ]
        }
      ],
      "source": [
        "movies_data = pd.read_csv(DIR1)"
      ]
    },
    {
      "cell_type": "code",
      "execution_count": 5,
      "metadata": {
        "colab": {
          "base_uri": "https://localhost:8080/",
          "height": 706
        },
        "id": "8YrO9OKNUMq_",
        "outputId": "18dea623-9e8b-4844-dc50-ab1986f0f63b"
      },
      "outputs": [
        {
          "data": {
            "text/html": [
              "<div>\n",
              "<style scoped>\n",
              "    .dataframe tbody tr th:only-of-type {\n",
              "        vertical-align: middle;\n",
              "    }\n",
              "\n",
              "    .dataframe tbody tr th {\n",
              "        vertical-align: top;\n",
              "    }\n",
              "\n",
              "    .dataframe thead th {\n",
              "        text-align: right;\n",
              "    }\n",
              "</style>\n",
              "<table border=\"1\" class=\"dataframe\">\n",
              "  <thead>\n",
              "    <tr style=\"text-align: right;\">\n",
              "      <th></th>\n",
              "      <th>adult</th>\n",
              "      <th>belongs_to_collection</th>\n",
              "      <th>budget</th>\n",
              "      <th>genres</th>\n",
              "      <th>homepage</th>\n",
              "      <th>id</th>\n",
              "      <th>imdb_id</th>\n",
              "      <th>original_language</th>\n",
              "      <th>original_title</th>\n",
              "      <th>overview</th>\n",
              "      <th>...</th>\n",
              "      <th>release_date</th>\n",
              "      <th>revenue</th>\n",
              "      <th>runtime</th>\n",
              "      <th>spoken_languages</th>\n",
              "      <th>status</th>\n",
              "      <th>tagline</th>\n",
              "      <th>title</th>\n",
              "      <th>video</th>\n",
              "      <th>vote_average</th>\n",
              "      <th>vote_count</th>\n",
              "    </tr>\n",
              "  </thead>\n",
              "  <tbody>\n",
              "    <tr>\n",
              "      <th>0</th>\n",
              "      <td>False</td>\n",
              "      <td>{'id': 10194, 'name': 'Toy Story Collection', ...</td>\n",
              "      <td>30000000</td>\n",
              "      <td>[{'id': 16, 'name': 'Animation'}, {'id': 35, '...</td>\n",
              "      <td>http://toystory.disney.com/toy-story</td>\n",
              "      <td>862</td>\n",
              "      <td>tt0114709</td>\n",
              "      <td>en</td>\n",
              "      <td>Toy Story</td>\n",
              "      <td>Led by Woody, Andy's toys live happily in his ...</td>\n",
              "      <td>...</td>\n",
              "      <td>1995-10-30</td>\n",
              "      <td>373554033.0</td>\n",
              "      <td>81.0</td>\n",
              "      <td>[{'iso_639_1': 'en', 'name': 'English'}]</td>\n",
              "      <td>Released</td>\n",
              "      <td>NaN</td>\n",
              "      <td>Toy Story</td>\n",
              "      <td>False</td>\n",
              "      <td>7.7</td>\n",
              "      <td>5415.0</td>\n",
              "    </tr>\n",
              "    <tr>\n",
              "      <th>1</th>\n",
              "      <td>False</td>\n",
              "      <td>NaN</td>\n",
              "      <td>65000000</td>\n",
              "      <td>[{'id': 12, 'name': 'Adventure'}, {'id': 14, '...</td>\n",
              "      <td>NaN</td>\n",
              "      <td>8844</td>\n",
              "      <td>tt0113497</td>\n",
              "      <td>en</td>\n",
              "      <td>Jumanji</td>\n",
              "      <td>When siblings Judy and Peter discover an encha...</td>\n",
              "      <td>...</td>\n",
              "      <td>1995-12-15</td>\n",
              "      <td>262797249.0</td>\n",
              "      <td>104.0</td>\n",
              "      <td>[{'iso_639_1': 'en', 'name': 'English'}, {'iso...</td>\n",
              "      <td>Released</td>\n",
              "      <td>Roll the dice and unleash the excitement!</td>\n",
              "      <td>Jumanji</td>\n",
              "      <td>False</td>\n",
              "      <td>6.9</td>\n",
              "      <td>2413.0</td>\n",
              "    </tr>\n",
              "    <tr>\n",
              "      <th>2</th>\n",
              "      <td>False</td>\n",
              "      <td>{'id': 119050, 'name': 'Grumpy Old Men Collect...</td>\n",
              "      <td>0</td>\n",
              "      <td>[{'id': 10749, 'name': 'Romance'}, {'id': 35, ...</td>\n",
              "      <td>NaN</td>\n",
              "      <td>15602</td>\n",
              "      <td>tt0113228</td>\n",
              "      <td>en</td>\n",
              "      <td>Grumpier Old Men</td>\n",
              "      <td>A family wedding reignites the ancient feud be...</td>\n",
              "      <td>...</td>\n",
              "      <td>1995-12-22</td>\n",
              "      <td>0.0</td>\n",
              "      <td>101.0</td>\n",
              "      <td>[{'iso_639_1': 'en', 'name': 'English'}]</td>\n",
              "      <td>Released</td>\n",
              "      <td>Still Yelling. Still Fighting. Still Ready for...</td>\n",
              "      <td>Grumpier Old Men</td>\n",
              "      <td>False</td>\n",
              "      <td>6.5</td>\n",
              "      <td>92.0</td>\n",
              "    </tr>\n",
              "    <tr>\n",
              "      <th>3</th>\n",
              "      <td>False</td>\n",
              "      <td>NaN</td>\n",
              "      <td>16000000</td>\n",
              "      <td>[{'id': 35, 'name': 'Comedy'}, {'id': 18, 'nam...</td>\n",
              "      <td>NaN</td>\n",
              "      <td>31357</td>\n",
              "      <td>tt0114885</td>\n",
              "      <td>en</td>\n",
              "      <td>Waiting to Exhale</td>\n",
              "      <td>Cheated on, mistreated and stepped on, the wom...</td>\n",
              "      <td>...</td>\n",
              "      <td>1995-12-22</td>\n",
              "      <td>81452156.0</td>\n",
              "      <td>127.0</td>\n",
              "      <td>[{'iso_639_1': 'en', 'name': 'English'}]</td>\n",
              "      <td>Released</td>\n",
              "      <td>Friends are the people who let you be yourself...</td>\n",
              "      <td>Waiting to Exhale</td>\n",
              "      <td>False</td>\n",
              "      <td>6.1</td>\n",
              "      <td>34.0</td>\n",
              "    </tr>\n",
              "    <tr>\n",
              "      <th>4</th>\n",
              "      <td>False</td>\n",
              "      <td>{'id': 96871, 'name': 'Father of the Bride Col...</td>\n",
              "      <td>0</td>\n",
              "      <td>[{'id': 35, 'name': 'Comedy'}]</td>\n",
              "      <td>NaN</td>\n",
              "      <td>11862</td>\n",
              "      <td>tt0113041</td>\n",
              "      <td>en</td>\n",
              "      <td>Father of the Bride Part II</td>\n",
              "      <td>Just when George Banks has recovered from his ...</td>\n",
              "      <td>...</td>\n",
              "      <td>1995-02-10</td>\n",
              "      <td>76578911.0</td>\n",
              "      <td>106.0</td>\n",
              "      <td>[{'iso_639_1': 'en', 'name': 'English'}]</td>\n",
              "      <td>Released</td>\n",
              "      <td>Just When His World Is Back To Normal... He's ...</td>\n",
              "      <td>Father of the Bride Part II</td>\n",
              "      <td>False</td>\n",
              "      <td>5.7</td>\n",
              "      <td>173.0</td>\n",
              "    </tr>\n",
              "  </tbody>\n",
              "</table>\n",
              "<p>5 rows × 24 columns</p>\n",
              "</div>"
            ],
            "text/plain": [
              "   adult                              belongs_to_collection    budget  \\\n",
              "0  False  {'id': 10194, 'name': 'Toy Story Collection', ...  30000000   \n",
              "1  False                                                NaN  65000000   \n",
              "2  False  {'id': 119050, 'name': 'Grumpy Old Men Collect...         0   \n",
              "3  False                                                NaN  16000000   \n",
              "4  False  {'id': 96871, 'name': 'Father of the Bride Col...         0   \n",
              "\n",
              "                                              genres  \\\n",
              "0  [{'id': 16, 'name': 'Animation'}, {'id': 35, '...   \n",
              "1  [{'id': 12, 'name': 'Adventure'}, {'id': 14, '...   \n",
              "2  [{'id': 10749, 'name': 'Romance'}, {'id': 35, ...   \n",
              "3  [{'id': 35, 'name': 'Comedy'}, {'id': 18, 'nam...   \n",
              "4                     [{'id': 35, 'name': 'Comedy'}]   \n",
              "\n",
              "                               homepage     id    imdb_id original_language  \\\n",
              "0  http://toystory.disney.com/toy-story    862  tt0114709                en   \n",
              "1                                   NaN   8844  tt0113497                en   \n",
              "2                                   NaN  15602  tt0113228                en   \n",
              "3                                   NaN  31357  tt0114885                en   \n",
              "4                                   NaN  11862  tt0113041                en   \n",
              "\n",
              "                original_title  \\\n",
              "0                    Toy Story   \n",
              "1                      Jumanji   \n",
              "2             Grumpier Old Men   \n",
              "3            Waiting to Exhale   \n",
              "4  Father of the Bride Part II   \n",
              "\n",
              "                                            overview  ... release_date  \\\n",
              "0  Led by Woody, Andy's toys live happily in his ...  ...   1995-10-30   \n",
              "1  When siblings Judy and Peter discover an encha...  ...   1995-12-15   \n",
              "2  A family wedding reignites the ancient feud be...  ...   1995-12-22   \n",
              "3  Cheated on, mistreated and stepped on, the wom...  ...   1995-12-22   \n",
              "4  Just when George Banks has recovered from his ...  ...   1995-02-10   \n",
              "\n",
              "       revenue runtime                                   spoken_languages  \\\n",
              "0  373554033.0    81.0           [{'iso_639_1': 'en', 'name': 'English'}]   \n",
              "1  262797249.0   104.0  [{'iso_639_1': 'en', 'name': 'English'}, {'iso...   \n",
              "2          0.0   101.0           [{'iso_639_1': 'en', 'name': 'English'}]   \n",
              "3   81452156.0   127.0           [{'iso_639_1': 'en', 'name': 'English'}]   \n",
              "4   76578911.0   106.0           [{'iso_639_1': 'en', 'name': 'English'}]   \n",
              "\n",
              "     status                                            tagline  \\\n",
              "0  Released                                                NaN   \n",
              "1  Released          Roll the dice and unleash the excitement!   \n",
              "2  Released  Still Yelling. Still Fighting. Still Ready for...   \n",
              "3  Released  Friends are the people who let you be yourself...   \n",
              "4  Released  Just When His World Is Back To Normal... He's ...   \n",
              "\n",
              "                         title  video vote_average vote_count  \n",
              "0                    Toy Story  False          7.7     5415.0  \n",
              "1                      Jumanji  False          6.9     2413.0  \n",
              "2             Grumpier Old Men  False          6.5       92.0  \n",
              "3            Waiting to Exhale  False          6.1       34.0  \n",
              "4  Father of the Bride Part II  False          5.7      173.0  \n",
              "\n",
              "[5 rows x 24 columns]"
            ]
          },
          "execution_count": 5,
          "metadata": {},
          "output_type": "execute_result"
        }
      ],
      "source": [
        "movies_data.head()"
      ]
    },
    {
      "cell_type": "code",
      "execution_count": 6,
      "metadata": {
        "id": "-Ot0pEODUR3_"
      },
      "outputs": [],
      "source": [
        "movies_data_required = movies_data.iloc[:, [3,5,6,7,8,9,12,20]]"
      ]
    },
    {
      "cell_type": "code",
      "execution_count": 7,
      "metadata": {
        "colab": {
          "base_uri": "https://localhost:8080/",
          "height": 293
        },
        "id": "i1jZ77f7VCFy",
        "outputId": "cb960617-922b-4e65-e610-21a93d1851ed"
      },
      "outputs": [
        {
          "data": {
            "text/html": [
              "<div>\n",
              "<style scoped>\n",
              "    .dataframe tbody tr th:only-of-type {\n",
              "        vertical-align: middle;\n",
              "    }\n",
              "\n",
              "    .dataframe tbody tr th {\n",
              "        vertical-align: top;\n",
              "    }\n",
              "\n",
              "    .dataframe thead th {\n",
              "        text-align: right;\n",
              "    }\n",
              "</style>\n",
              "<table border=\"1\" class=\"dataframe\">\n",
              "  <thead>\n",
              "    <tr style=\"text-align: right;\">\n",
              "      <th></th>\n",
              "      <th>genres</th>\n",
              "      <th>id</th>\n",
              "      <th>imdb_id</th>\n",
              "      <th>original_language</th>\n",
              "      <th>original_title</th>\n",
              "      <th>overview</th>\n",
              "      <th>production_companies</th>\n",
              "      <th>title</th>\n",
              "    </tr>\n",
              "  </thead>\n",
              "  <tbody>\n",
              "    <tr>\n",
              "      <th>0</th>\n",
              "      <td>[{'id': 16, 'name': 'Animation'}, {'id': 35, '...</td>\n",
              "      <td>862</td>\n",
              "      <td>tt0114709</td>\n",
              "      <td>en</td>\n",
              "      <td>Toy Story</td>\n",
              "      <td>Led by Woody, Andy's toys live happily in his ...</td>\n",
              "      <td>[{'name': 'Pixar Animation Studios', 'id': 3}]</td>\n",
              "      <td>Toy Story</td>\n",
              "    </tr>\n",
              "    <tr>\n",
              "      <th>1</th>\n",
              "      <td>[{'id': 12, 'name': 'Adventure'}, {'id': 14, '...</td>\n",
              "      <td>8844</td>\n",
              "      <td>tt0113497</td>\n",
              "      <td>en</td>\n",
              "      <td>Jumanji</td>\n",
              "      <td>When siblings Judy and Peter discover an encha...</td>\n",
              "      <td>[{'name': 'TriStar Pictures', 'id': 559}, {'na...</td>\n",
              "      <td>Jumanji</td>\n",
              "    </tr>\n",
              "    <tr>\n",
              "      <th>2</th>\n",
              "      <td>[{'id': 10749, 'name': 'Romance'}, {'id': 35, ...</td>\n",
              "      <td>15602</td>\n",
              "      <td>tt0113228</td>\n",
              "      <td>en</td>\n",
              "      <td>Grumpier Old Men</td>\n",
              "      <td>A family wedding reignites the ancient feud be...</td>\n",
              "      <td>[{'name': 'Warner Bros.', 'id': 6194}, {'name'...</td>\n",
              "      <td>Grumpier Old Men</td>\n",
              "    </tr>\n",
              "    <tr>\n",
              "      <th>3</th>\n",
              "      <td>[{'id': 35, 'name': 'Comedy'}, {'id': 18, 'nam...</td>\n",
              "      <td>31357</td>\n",
              "      <td>tt0114885</td>\n",
              "      <td>en</td>\n",
              "      <td>Waiting to Exhale</td>\n",
              "      <td>Cheated on, mistreated and stepped on, the wom...</td>\n",
              "      <td>[{'name': 'Twentieth Century Fox Film Corporat...</td>\n",
              "      <td>Waiting to Exhale</td>\n",
              "    </tr>\n",
              "    <tr>\n",
              "      <th>4</th>\n",
              "      <td>[{'id': 35, 'name': 'Comedy'}]</td>\n",
              "      <td>11862</td>\n",
              "      <td>tt0113041</td>\n",
              "      <td>en</td>\n",
              "      <td>Father of the Bride Part II</td>\n",
              "      <td>Just when George Banks has recovered from his ...</td>\n",
              "      <td>[{'name': 'Sandollar Productions', 'id': 5842}...</td>\n",
              "      <td>Father of the Bride Part II</td>\n",
              "    </tr>\n",
              "  </tbody>\n",
              "</table>\n",
              "</div>"
            ],
            "text/plain": [
              "                                              genres     id    imdb_id  \\\n",
              "0  [{'id': 16, 'name': 'Animation'}, {'id': 35, '...    862  tt0114709   \n",
              "1  [{'id': 12, 'name': 'Adventure'}, {'id': 14, '...   8844  tt0113497   \n",
              "2  [{'id': 10749, 'name': 'Romance'}, {'id': 35, ...  15602  tt0113228   \n",
              "3  [{'id': 35, 'name': 'Comedy'}, {'id': 18, 'nam...  31357  tt0114885   \n",
              "4                     [{'id': 35, 'name': 'Comedy'}]  11862  tt0113041   \n",
              "\n",
              "  original_language               original_title  \\\n",
              "0                en                    Toy Story   \n",
              "1                en                      Jumanji   \n",
              "2                en             Grumpier Old Men   \n",
              "3                en            Waiting to Exhale   \n",
              "4                en  Father of the Bride Part II   \n",
              "\n",
              "                                            overview  \\\n",
              "0  Led by Woody, Andy's toys live happily in his ...   \n",
              "1  When siblings Judy and Peter discover an encha...   \n",
              "2  A family wedding reignites the ancient feud be...   \n",
              "3  Cheated on, mistreated and stepped on, the wom...   \n",
              "4  Just when George Banks has recovered from his ...   \n",
              "\n",
              "                                production_companies  \\\n",
              "0     [{'name': 'Pixar Animation Studios', 'id': 3}]   \n",
              "1  [{'name': 'TriStar Pictures', 'id': 559}, {'na...   \n",
              "2  [{'name': 'Warner Bros.', 'id': 6194}, {'name'...   \n",
              "3  [{'name': 'Twentieth Century Fox Film Corporat...   \n",
              "4  [{'name': 'Sandollar Productions', 'id': 5842}...   \n",
              "\n",
              "                         title  \n",
              "0                    Toy Story  \n",
              "1                      Jumanji  \n",
              "2             Grumpier Old Men  \n",
              "3            Waiting to Exhale  \n",
              "4  Father of the Bride Part II  "
            ]
          },
          "execution_count": 7,
          "metadata": {},
          "output_type": "execute_result"
        }
      ],
      "source": [
        "movies_data_required.head()"
      ]
    },
    {
      "cell_type": "code",
      "execution_count": 8,
      "metadata": {
        "colab": {
          "base_uri": "https://localhost:8080/"
        },
        "id": "LhgcwQNiakMO",
        "outputId": "c850fd03-abc0-468a-d262-498aaea1f821"
      },
      "outputs": [
        {
          "data": {
            "text/plain": [
              "genres                  object\n",
              "id                      object\n",
              "imdb_id                 object\n",
              "original_language       object\n",
              "original_title          object\n",
              "overview                object\n",
              "production_companies    object\n",
              "title                   object\n",
              "dtype: object"
            ]
          },
          "execution_count": 8,
          "metadata": {},
          "output_type": "execute_result"
        }
      ],
      "source": [
        "movies_data_required.dtypes"
      ]
    },
    {
      "cell_type": "code",
      "execution_count": 9,
      "metadata": {
        "colab": {
          "base_uri": "https://localhost:8080/"
        },
        "id": "1tnWffjHbH-W",
        "outputId": "1d60a18b-1d5c-48fd-bb3e-6985fc12e3ac"
      },
      "outputs": [
        {
          "data": {
            "text/plain": [
              "genres                    0\n",
              "id                        0\n",
              "imdb_id                  17\n",
              "original_language        11\n",
              "original_title            0\n",
              "overview                954\n",
              "production_companies      3\n",
              "title                     6\n",
              "dtype: int64"
            ]
          },
          "execution_count": 9,
          "metadata": {},
          "output_type": "execute_result"
        }
      ],
      "source": [
        "movies_data_required.isna().sum()"
      ]
    },
    {
      "cell_type": "code",
      "execution_count": 10,
      "metadata": {
        "colab": {
          "base_uri": "https://localhost:8080/"
        },
        "id": "t4fbtO-62J66",
        "outputId": "afc69d87-9ca1-4c46-b28f-e5f47540e323"
      },
      "outputs": [
        {
          "data": {
            "text/plain": [
              "(45466, 8)"
            ]
          },
          "execution_count": 10,
          "metadata": {},
          "output_type": "execute_result"
        }
      ],
      "source": [
        "movies_data_required.shape"
      ]
    },
    {
      "cell_type": "code",
      "execution_count": 11,
      "metadata": {
        "colab": {
          "base_uri": "https://localhost:8080/",
          "height": 206
        },
        "id": "8eEEnDYu0IQy",
        "outputId": "b1187454-5476-474f-dd8b-cbb751ee7b98"
      },
      "outputs": [
        {
          "data": {
            "text/html": [
              "<div>\n",
              "<style scoped>\n",
              "    .dataframe tbody tr th:only-of-type {\n",
              "        vertical-align: middle;\n",
              "    }\n",
              "\n",
              "    .dataframe tbody tr th {\n",
              "        vertical-align: top;\n",
              "    }\n",
              "\n",
              "    .dataframe thead th {\n",
              "        text-align: right;\n",
              "    }\n",
              "</style>\n",
              "<table border=\"1\" class=\"dataframe\">\n",
              "  <thead>\n",
              "    <tr style=\"text-align: right;\">\n",
              "      <th></th>\n",
              "      <th>id</th>\n",
              "      <th>keywords</th>\n",
              "    </tr>\n",
              "  </thead>\n",
              "  <tbody>\n",
              "    <tr>\n",
              "      <th>0</th>\n",
              "      <td>862</td>\n",
              "      <td>[{'id': 931, 'name': 'jealousy'}, {'id': 4290,...</td>\n",
              "    </tr>\n",
              "    <tr>\n",
              "      <th>1</th>\n",
              "      <td>8844</td>\n",
              "      <td>[{'id': 10090, 'name': 'board game'}, {'id': 1...</td>\n",
              "    </tr>\n",
              "    <tr>\n",
              "      <th>2</th>\n",
              "      <td>15602</td>\n",
              "      <td>[{'id': 1495, 'name': 'fishing'}, {'id': 12392...</td>\n",
              "    </tr>\n",
              "    <tr>\n",
              "      <th>3</th>\n",
              "      <td>31357</td>\n",
              "      <td>[{'id': 818, 'name': 'based on novel'}, {'id':...</td>\n",
              "    </tr>\n",
              "    <tr>\n",
              "      <th>4</th>\n",
              "      <td>11862</td>\n",
              "      <td>[{'id': 1009, 'name': 'baby'}, {'id': 1599, 'n...</td>\n",
              "    </tr>\n",
              "  </tbody>\n",
              "</table>\n",
              "</div>"
            ],
            "text/plain": [
              "      id                                           keywords\n",
              "0    862  [{'id': 931, 'name': 'jealousy'}, {'id': 4290,...\n",
              "1   8844  [{'id': 10090, 'name': 'board game'}, {'id': 1...\n",
              "2  15602  [{'id': 1495, 'name': 'fishing'}, {'id': 12392...\n",
              "3  31357  [{'id': 818, 'name': 'based on novel'}, {'id':...\n",
              "4  11862  [{'id': 1009, 'name': 'baby'}, {'id': 1599, 'n..."
            ]
          },
          "execution_count": 11,
          "metadata": {},
          "output_type": "execute_result"
        }
      ],
      "source": [
        "DIR2 = 'F:/UB/5. Independent Study/archive/keywords.csv'\n",
        "keywords_df = pd.read_csv(DIR2)\n",
        "keywords_df.head()"
      ]
    },
    {
      "cell_type": "code",
      "execution_count": 12,
      "metadata": {
        "colab": {
          "base_uri": "https://localhost:8080/"
        },
        "id": "qa_FprEp-2Pd",
        "outputId": "9f32c126-d83d-44f3-bb50-c7838bfafa7f"
      },
      "outputs": [
        {
          "name": "stdout",
          "output_type": "stream",
          "text": [
            "           id                                           keywords\n",
            "676    105045  [{'id': 7059, 'name': 'anti-communism'}, {'id'...\n",
            "838    132641  [{'id': 818, 'name': 'based on novel'}, {'id':...\n",
            "949     22649  [{'id': 131, 'name': 'italy'}, {'id': 428, 'na...\n",
            "1465   105045  [{'id': 7059, 'name': 'anti-communism'}, {'id'...\n",
            "2564    84198         [{'id': 187056, 'name': 'woman director'}]\n",
            "...       ...                                                ...\n",
            "40994  298721  [{'id': 1227, 'name': 'cemetery'}, {'id': 1261...\n",
            "41230   97995                                                 []\n",
            "45774   10991  [{'id': 1262, 'name': 'mountain'}, {'id': 2802...\n",
            "45779   12600  [{'id': 9663, 'name': 'sequel'}, {'id': 11451,...\n",
            "46218  265189  [{'id': 293, 'name': 'female nudity'}, {'id': ...\n",
            "\n",
            "[1972 rows x 2 columns]\n"
          ]
        }
      ],
      "source": [
        "duplicate_ids = keywords_df[keywords_df.duplicated(subset=['id'], keep=False)]\n",
        "print(duplicate_ids)"
      ]
    },
    {
      "cell_type": "code",
      "execution_count": 13,
      "metadata": {
        "colab": {
          "base_uri": "https://localhost:8080/"
        },
        "id": "FB3jSHCR_6Cp",
        "outputId": "2b0b0147-8aaa-42fb-f51f-e0f4cd0183e8"
      },
      "outputs": [
        {
          "data": {
            "text/plain": [
              "(46419, 2)"
            ]
          },
          "execution_count": 13,
          "metadata": {},
          "output_type": "execute_result"
        }
      ],
      "source": [
        "keywords_df.shape"
      ]
    },
    {
      "cell_type": "code",
      "execution_count": 14,
      "metadata": {
        "id": "e77BL6i3Akwm"
      },
      "outputs": [],
      "source": [
        "keywords_df = keywords_df.drop_duplicates(subset=['id'])"
      ]
    },
    {
      "cell_type": "code",
      "execution_count": 15,
      "metadata": {
        "id": "itgvxyqAyBlj"
      },
      "outputs": [],
      "source": [
        "movies_data_required = movies_data_required[movies_data_required['id'] != '1997-08-20']\n",
        "movies_data_required = movies_data_required[movies_data_required['id'] != '2012-09-29']\n",
        "movies_data_required = movies_data_required[movies_data_required['id'] != '2014-01-01']"
      ]
    },
    {
      "cell_type": "code",
      "execution_count": 16,
      "metadata": {
        "id": "8YZcRZ2E0l80"
      },
      "outputs": [],
      "source": [
        "keywords_df['id'] = keywords_df['id'].astype(str)\n",
        "merged_df = pd.merge(movies_data_required, keywords_df, on='id', how='left')"
      ]
    },
    {
      "cell_type": "code",
      "execution_count": 17,
      "metadata": {
        "colab": {
          "base_uri": "https://localhost:8080/"
        },
        "id": "0IvdPUbL8Qsp",
        "outputId": "e4ab6f8b-5065-46f9-8b80-fda9bdb969de"
      },
      "outputs": [
        {
          "data": {
            "text/plain": [
              "(45463, 9)"
            ]
          },
          "execution_count": 17,
          "metadata": {},
          "output_type": "execute_result"
        }
      ],
      "source": [
        "merged_df.shape"
      ]
    },
    {
      "cell_type": "code",
      "execution_count": 18,
      "metadata": {
        "colab": {
          "base_uri": "https://localhost:8080/",
          "height": 293
        },
        "id": "37oWBHF20ULh",
        "outputId": "baa31ca1-bfe0-4942-d26a-5268e60b175b"
      },
      "outputs": [
        {
          "data": {
            "text/html": [
              "<div>\n",
              "<style scoped>\n",
              "    .dataframe tbody tr th:only-of-type {\n",
              "        vertical-align: middle;\n",
              "    }\n",
              "\n",
              "    .dataframe tbody tr th {\n",
              "        vertical-align: top;\n",
              "    }\n",
              "\n",
              "    .dataframe thead th {\n",
              "        text-align: right;\n",
              "    }\n",
              "</style>\n",
              "<table border=\"1\" class=\"dataframe\">\n",
              "  <thead>\n",
              "    <tr style=\"text-align: right;\">\n",
              "      <th></th>\n",
              "      <th>genres</th>\n",
              "      <th>id</th>\n",
              "      <th>imdb_id</th>\n",
              "      <th>original_language</th>\n",
              "      <th>original_title</th>\n",
              "      <th>overview</th>\n",
              "      <th>production_companies</th>\n",
              "      <th>title</th>\n",
              "      <th>keywords</th>\n",
              "    </tr>\n",
              "  </thead>\n",
              "  <tbody>\n",
              "    <tr>\n",
              "      <th>0</th>\n",
              "      <td>[{'id': 16, 'name': 'Animation'}, {'id': 35, '...</td>\n",
              "      <td>862</td>\n",
              "      <td>tt0114709</td>\n",
              "      <td>en</td>\n",
              "      <td>Toy Story</td>\n",
              "      <td>Led by Woody, Andy's toys live happily in his ...</td>\n",
              "      <td>[{'name': 'Pixar Animation Studios', 'id': 3}]</td>\n",
              "      <td>Toy Story</td>\n",
              "      <td>[{'id': 931, 'name': 'jealousy'}, {'id': 4290,...</td>\n",
              "    </tr>\n",
              "    <tr>\n",
              "      <th>1</th>\n",
              "      <td>[{'id': 12, 'name': 'Adventure'}, {'id': 14, '...</td>\n",
              "      <td>8844</td>\n",
              "      <td>tt0113497</td>\n",
              "      <td>en</td>\n",
              "      <td>Jumanji</td>\n",
              "      <td>When siblings Judy and Peter discover an encha...</td>\n",
              "      <td>[{'name': 'TriStar Pictures', 'id': 559}, {'na...</td>\n",
              "      <td>Jumanji</td>\n",
              "      <td>[{'id': 10090, 'name': 'board game'}, {'id': 1...</td>\n",
              "    </tr>\n",
              "    <tr>\n",
              "      <th>2</th>\n",
              "      <td>[{'id': 10749, 'name': 'Romance'}, {'id': 35, ...</td>\n",
              "      <td>15602</td>\n",
              "      <td>tt0113228</td>\n",
              "      <td>en</td>\n",
              "      <td>Grumpier Old Men</td>\n",
              "      <td>A family wedding reignites the ancient feud be...</td>\n",
              "      <td>[{'name': 'Warner Bros.', 'id': 6194}, {'name'...</td>\n",
              "      <td>Grumpier Old Men</td>\n",
              "      <td>[{'id': 1495, 'name': 'fishing'}, {'id': 12392...</td>\n",
              "    </tr>\n",
              "    <tr>\n",
              "      <th>3</th>\n",
              "      <td>[{'id': 35, 'name': 'Comedy'}, {'id': 18, 'nam...</td>\n",
              "      <td>31357</td>\n",
              "      <td>tt0114885</td>\n",
              "      <td>en</td>\n",
              "      <td>Waiting to Exhale</td>\n",
              "      <td>Cheated on, mistreated and stepped on, the wom...</td>\n",
              "      <td>[{'name': 'Twentieth Century Fox Film Corporat...</td>\n",
              "      <td>Waiting to Exhale</td>\n",
              "      <td>[{'id': 818, 'name': 'based on novel'}, {'id':...</td>\n",
              "    </tr>\n",
              "    <tr>\n",
              "      <th>4</th>\n",
              "      <td>[{'id': 35, 'name': 'Comedy'}]</td>\n",
              "      <td>11862</td>\n",
              "      <td>tt0113041</td>\n",
              "      <td>en</td>\n",
              "      <td>Father of the Bride Part II</td>\n",
              "      <td>Just when George Banks has recovered from his ...</td>\n",
              "      <td>[{'name': 'Sandollar Productions', 'id': 5842}...</td>\n",
              "      <td>Father of the Bride Part II</td>\n",
              "      <td>[{'id': 1009, 'name': 'baby'}, {'id': 1599, 'n...</td>\n",
              "    </tr>\n",
              "  </tbody>\n",
              "</table>\n",
              "</div>"
            ],
            "text/plain": [
              "                                              genres     id    imdb_id  \\\n",
              "0  [{'id': 16, 'name': 'Animation'}, {'id': 35, '...    862  tt0114709   \n",
              "1  [{'id': 12, 'name': 'Adventure'}, {'id': 14, '...   8844  tt0113497   \n",
              "2  [{'id': 10749, 'name': 'Romance'}, {'id': 35, ...  15602  tt0113228   \n",
              "3  [{'id': 35, 'name': 'Comedy'}, {'id': 18, 'nam...  31357  tt0114885   \n",
              "4                     [{'id': 35, 'name': 'Comedy'}]  11862  tt0113041   \n",
              "\n",
              "  original_language               original_title  \\\n",
              "0                en                    Toy Story   \n",
              "1                en                      Jumanji   \n",
              "2                en             Grumpier Old Men   \n",
              "3                en            Waiting to Exhale   \n",
              "4                en  Father of the Bride Part II   \n",
              "\n",
              "                                            overview  \\\n",
              "0  Led by Woody, Andy's toys live happily in his ...   \n",
              "1  When siblings Judy and Peter discover an encha...   \n",
              "2  A family wedding reignites the ancient feud be...   \n",
              "3  Cheated on, mistreated and stepped on, the wom...   \n",
              "4  Just when George Banks has recovered from his ...   \n",
              "\n",
              "                                production_companies  \\\n",
              "0     [{'name': 'Pixar Animation Studios', 'id': 3}]   \n",
              "1  [{'name': 'TriStar Pictures', 'id': 559}, {'na...   \n",
              "2  [{'name': 'Warner Bros.', 'id': 6194}, {'name'...   \n",
              "3  [{'name': 'Twentieth Century Fox Film Corporat...   \n",
              "4  [{'name': 'Sandollar Productions', 'id': 5842}...   \n",
              "\n",
              "                         title  \\\n",
              "0                    Toy Story   \n",
              "1                      Jumanji   \n",
              "2             Grumpier Old Men   \n",
              "3            Waiting to Exhale   \n",
              "4  Father of the Bride Part II   \n",
              "\n",
              "                                            keywords  \n",
              "0  [{'id': 931, 'name': 'jealousy'}, {'id': 4290,...  \n",
              "1  [{'id': 10090, 'name': 'board game'}, {'id': 1...  \n",
              "2  [{'id': 1495, 'name': 'fishing'}, {'id': 12392...  \n",
              "3  [{'id': 818, 'name': 'based on novel'}, {'id':...  \n",
              "4  [{'id': 1009, 'name': 'baby'}, {'id': 1599, 'n...  "
            ]
          },
          "execution_count": 18,
          "metadata": {},
          "output_type": "execute_result"
        }
      ],
      "source": [
        "movies_data_required = merged_df\n",
        "movies_data_required.head()"
      ]
    },
    {
      "cell_type": "code",
      "execution_count": 19,
      "metadata": {
        "id": "8lmPRF2dV-wC"
      },
      "outputs": [],
      "source": [
        "import ast\n",
        "def get_genres(genre_string):\n",
        "    genres_lst = []\n",
        "    for i in ast.literal_eval(genre_string):\n",
        "        genres_lst.append(i['name'].lower())\n",
        "    return genres_lst"
      ]
    },
    {
      "cell_type": "code",
      "execution_count": 20,
      "metadata": {
        "id": "fSSqgdw0WxJs"
      },
      "outputs": [],
      "source": [
        "movies_data_required['genres'] = movies_data_required['genres'].apply(get_genres)"
      ]
    },
    {
      "cell_type": "code",
      "execution_count": 21,
      "metadata": {
        "id": "EC7z3SlOXh3d"
      },
      "outputs": [],
      "source": [
        "def list_overview(overview):\n",
        "    # Check if overview is null or NaN\n",
        "    if pd.isnull(overview):\n",
        "        return []\n",
        "    punctuations = '''!()-[]{};:'\"\\,<>./?@#$%^&*_~'''\n",
        "    clean_text = ''.join([char.lower() for char in overview if char not in punctuations])\n",
        "    word_list = clean_text.split()\n",
        "    return word_list\n",
        "\n"
      ]
    },
    {
      "cell_type": "code",
      "execution_count": 22,
      "metadata": {
        "id": "o-YJJamLZujg"
      },
      "outputs": [],
      "source": [
        "movies_data_required['overview'] = movies_data_required['overview'].apply(list_overview)"
      ]
    },
    {
      "cell_type": "code",
      "execution_count": 23,
      "metadata": {
        "id": "8j67l7eVb8n-"
      },
      "outputs": [],
      "source": [
        "def get_title(title):\n",
        "  clean_title = ''.join([char.lower() for char in title])\n",
        "  title_list = clean_title.split()\n",
        "  return title_list\n"
      ]
    },
    {
      "cell_type": "code",
      "execution_count": 24,
      "metadata": {
        "id": "JEWBU8hBewGp"
      },
      "outputs": [],
      "source": [
        "movies_data_required['original_title'] = movies_data_required['original_title'].apply(get_title)"
      ]
    },
    {
      "cell_type": "code",
      "execution_count": 25,
      "metadata": {
        "id": "MeaVKzvltCxX"
      },
      "outputs": [],
      "source": [
        "def get_production_name(row):\n",
        "    try:\n",
        "        if isinstance(row, str):\n",
        "            list_row = ast.literal_eval(row)\n",
        "            company = []\n",
        "            if list_row != False:\n",
        "              for i in list_row:\n",
        "                  company.append(i['name'].replace(\" \", \"\").lower())\n",
        "            return company\n",
        "        else:\n",
        "            return []\n",
        "    except (SyntaxError, ValueError):\n",
        "        return []"
      ]
    },
    {
      "cell_type": "code",
      "execution_count": 26,
      "metadata": {
        "id": "a_wZidbIumTE"
      },
      "outputs": [],
      "source": [
        "movies_data_required['production_companies']=movies_data_required['production_companies'].apply(get_production_name)"
      ]
    },
    {
      "cell_type": "code",
      "execution_count": 27,
      "metadata": {
        "colab": {
          "base_uri": "https://localhost:8080/",
          "height": 293
        },
        "id": "RnIrGFGAvI9t",
        "outputId": "5fae422d-0ff0-4b51-8f1e-cb2dbd1a0dcf"
      },
      "outputs": [
        {
          "data": {
            "text/html": [
              "<div>\n",
              "<style scoped>\n",
              "    .dataframe tbody tr th:only-of-type {\n",
              "        vertical-align: middle;\n",
              "    }\n",
              "\n",
              "    .dataframe tbody tr th {\n",
              "        vertical-align: top;\n",
              "    }\n",
              "\n",
              "    .dataframe thead th {\n",
              "        text-align: right;\n",
              "    }\n",
              "</style>\n",
              "<table border=\"1\" class=\"dataframe\">\n",
              "  <thead>\n",
              "    <tr style=\"text-align: right;\">\n",
              "      <th></th>\n",
              "      <th>genres</th>\n",
              "      <th>id</th>\n",
              "      <th>imdb_id</th>\n",
              "      <th>original_language</th>\n",
              "      <th>original_title</th>\n",
              "      <th>overview</th>\n",
              "      <th>production_companies</th>\n",
              "      <th>title</th>\n",
              "      <th>keywords</th>\n",
              "    </tr>\n",
              "  </thead>\n",
              "  <tbody>\n",
              "    <tr>\n",
              "      <th>0</th>\n",
              "      <td>[animation, comedy, family]</td>\n",
              "      <td>862</td>\n",
              "      <td>tt0114709</td>\n",
              "      <td>en</td>\n",
              "      <td>[toy, story]</td>\n",
              "      <td>[led, by, woody, andys, toys, live, happily, i...</td>\n",
              "      <td>[pixaranimationstudios]</td>\n",
              "      <td>Toy Story</td>\n",
              "      <td>[{'id': 931, 'name': 'jealousy'}, {'id': 4290,...</td>\n",
              "    </tr>\n",
              "    <tr>\n",
              "      <th>1</th>\n",
              "      <td>[adventure, fantasy, family]</td>\n",
              "      <td>8844</td>\n",
              "      <td>tt0113497</td>\n",
              "      <td>en</td>\n",
              "      <td>[jumanji]</td>\n",
              "      <td>[when, siblings, judy, and, peter, discover, a...</td>\n",
              "      <td>[tristarpictures, teitlerfilm, interscopecommu...</td>\n",
              "      <td>Jumanji</td>\n",
              "      <td>[{'id': 10090, 'name': 'board game'}, {'id': 1...</td>\n",
              "    </tr>\n",
              "    <tr>\n",
              "      <th>2</th>\n",
              "      <td>[romance, comedy]</td>\n",
              "      <td>15602</td>\n",
              "      <td>tt0113228</td>\n",
              "      <td>en</td>\n",
              "      <td>[grumpier, old, men]</td>\n",
              "      <td>[a, family, wedding, reignites, the, ancient, ...</td>\n",
              "      <td>[warnerbros., lancastergate]</td>\n",
              "      <td>Grumpier Old Men</td>\n",
              "      <td>[{'id': 1495, 'name': 'fishing'}, {'id': 12392...</td>\n",
              "    </tr>\n",
              "    <tr>\n",
              "      <th>3</th>\n",
              "      <td>[comedy, drama, romance]</td>\n",
              "      <td>31357</td>\n",
              "      <td>tt0114885</td>\n",
              "      <td>en</td>\n",
              "      <td>[waiting, to, exhale]</td>\n",
              "      <td>[cheated, on, mistreated, and, stepped, on, th...</td>\n",
              "      <td>[twentiethcenturyfoxfilmcorporation]</td>\n",
              "      <td>Waiting to Exhale</td>\n",
              "      <td>[{'id': 818, 'name': 'based on novel'}, {'id':...</td>\n",
              "    </tr>\n",
              "    <tr>\n",
              "      <th>4</th>\n",
              "      <td>[comedy]</td>\n",
              "      <td>11862</td>\n",
              "      <td>tt0113041</td>\n",
              "      <td>en</td>\n",
              "      <td>[father, of, the, bride, part, ii]</td>\n",
              "      <td>[just, when, george, banks, has, recovered, fr...</td>\n",
              "      <td>[sandollarproductions, touchstonepictures]</td>\n",
              "      <td>Father of the Bride Part II</td>\n",
              "      <td>[{'id': 1009, 'name': 'baby'}, {'id': 1599, 'n...</td>\n",
              "    </tr>\n",
              "  </tbody>\n",
              "</table>\n",
              "</div>"
            ],
            "text/plain": [
              "                         genres     id    imdb_id original_language  \\\n",
              "0   [animation, comedy, family]    862  tt0114709                en   \n",
              "1  [adventure, fantasy, family]   8844  tt0113497                en   \n",
              "2             [romance, comedy]  15602  tt0113228                en   \n",
              "3      [comedy, drama, romance]  31357  tt0114885                en   \n",
              "4                      [comedy]  11862  tt0113041                en   \n",
              "\n",
              "                       original_title  \\\n",
              "0                        [toy, story]   \n",
              "1                           [jumanji]   \n",
              "2                [grumpier, old, men]   \n",
              "3               [waiting, to, exhale]   \n",
              "4  [father, of, the, bride, part, ii]   \n",
              "\n",
              "                                            overview  \\\n",
              "0  [led, by, woody, andys, toys, live, happily, i...   \n",
              "1  [when, siblings, judy, and, peter, discover, a...   \n",
              "2  [a, family, wedding, reignites, the, ancient, ...   \n",
              "3  [cheated, on, mistreated, and, stepped, on, th...   \n",
              "4  [just, when, george, banks, has, recovered, fr...   \n",
              "\n",
              "                                production_companies  \\\n",
              "0                            [pixaranimationstudios]   \n",
              "1  [tristarpictures, teitlerfilm, interscopecommu...   \n",
              "2                       [warnerbros., lancastergate]   \n",
              "3               [twentiethcenturyfoxfilmcorporation]   \n",
              "4         [sandollarproductions, touchstonepictures]   \n",
              "\n",
              "                         title  \\\n",
              "0                    Toy Story   \n",
              "1                      Jumanji   \n",
              "2             Grumpier Old Men   \n",
              "3            Waiting to Exhale   \n",
              "4  Father of the Bride Part II   \n",
              "\n",
              "                                            keywords  \n",
              "0  [{'id': 931, 'name': 'jealousy'}, {'id': 4290,...  \n",
              "1  [{'id': 10090, 'name': 'board game'}, {'id': 1...  \n",
              "2  [{'id': 1495, 'name': 'fishing'}, {'id': 12392...  \n",
              "3  [{'id': 818, 'name': 'based on novel'}, {'id':...  \n",
              "4  [{'id': 1009, 'name': 'baby'}, {'id': 1599, 'n...  "
            ]
          },
          "execution_count": 27,
          "metadata": {},
          "output_type": "execute_result"
        }
      ],
      "source": [
        "movies_data_required.head()"
      ]
    },
    {
      "cell_type": "code",
      "execution_count": 28,
      "metadata": {
        "colab": {
          "base_uri": "https://localhost:8080/"
        },
        "id": "uJXEw6sD269P",
        "outputId": "c7681c9e-5281-4f51-9fd2-9191fc88e553"
      },
      "outputs": [
        {
          "data": {
            "text/plain": [
              "genres                   0\n",
              "id                       0\n",
              "imdb_id                 17\n",
              "original_language       11\n",
              "original_title           0\n",
              "overview                 0\n",
              "production_companies     0\n",
              "title                    3\n",
              "keywords                 1\n",
              "dtype: int64"
            ]
          },
          "execution_count": 28,
          "metadata": {},
          "output_type": "execute_result"
        }
      ],
      "source": [
        "movies_data_required.isna().sum()"
      ]
    },
    {
      "cell_type": "code",
      "execution_count": 29,
      "metadata": {
        "id": "ilCgVMex5LVa"
      },
      "outputs": [],
      "source": [
        "def get_keywords(keywords):\n",
        "    keyword_list = []\n",
        "    if pd.notna(keywords):  # Check if the value is not NaN\n",
        "        row_list = ast.literal_eval(keywords)\n",
        "        for i in row_list:\n",
        "            keyword_list.append(i['name'].replace(\" \", \"\").lower())\n",
        "    return keyword_list\n",
        "\n"
      ]
    },
    {
      "cell_type": "code",
      "execution_count": 30,
      "metadata": {
        "id": "8eNel6Mi6GkY"
      },
      "outputs": [],
      "source": [
        "movies_data_required['keywords'] = movies_data_required['keywords'].apply(get_keywords)"
      ]
    },
    {
      "cell_type": "code",
      "execution_count": 31,
      "metadata": {
        "id": "iuPpiq3mDh3d"
      },
      "outputs": [],
      "source": [
        "movies_data_required = movies_data_required.drop('imdb_id', axis=1)"
      ]
    },
    {
      "cell_type": "code",
      "execution_count": 32,
      "metadata": {
        "colab": {
          "base_uri": "https://localhost:8080/",
          "height": 293
        },
        "id": "r0jSdEb-DqKn",
        "outputId": "4b1f7440-cadf-48dc-aa05-9dd6159d44d6"
      },
      "outputs": [
        {
          "data": {
            "text/html": [
              "<div>\n",
              "<style scoped>\n",
              "    .dataframe tbody tr th:only-of-type {\n",
              "        vertical-align: middle;\n",
              "    }\n",
              "\n",
              "    .dataframe tbody tr th {\n",
              "        vertical-align: top;\n",
              "    }\n",
              "\n",
              "    .dataframe thead th {\n",
              "        text-align: right;\n",
              "    }\n",
              "</style>\n",
              "<table border=\"1\" class=\"dataframe\">\n",
              "  <thead>\n",
              "    <tr style=\"text-align: right;\">\n",
              "      <th></th>\n",
              "      <th>genres</th>\n",
              "      <th>id</th>\n",
              "      <th>original_language</th>\n",
              "      <th>original_title</th>\n",
              "      <th>overview</th>\n",
              "      <th>production_companies</th>\n",
              "      <th>title</th>\n",
              "      <th>keywords</th>\n",
              "    </tr>\n",
              "  </thead>\n",
              "  <tbody>\n",
              "    <tr>\n",
              "      <th>0</th>\n",
              "      <td>[animation, comedy, family]</td>\n",
              "      <td>862</td>\n",
              "      <td>en</td>\n",
              "      <td>[toy, story]</td>\n",
              "      <td>[led, by, woody, andys, toys, live, happily, i...</td>\n",
              "      <td>[pixaranimationstudios]</td>\n",
              "      <td>Toy Story</td>\n",
              "      <td>[jealousy, toy, boy, friendship, friends, riva...</td>\n",
              "    </tr>\n",
              "    <tr>\n",
              "      <th>1</th>\n",
              "      <td>[adventure, fantasy, family]</td>\n",
              "      <td>8844</td>\n",
              "      <td>en</td>\n",
              "      <td>[jumanji]</td>\n",
              "      <td>[when, siblings, judy, and, peter, discover, a...</td>\n",
              "      <td>[tristarpictures, teitlerfilm, interscopecommu...</td>\n",
              "      <td>Jumanji</td>\n",
              "      <td>[boardgame, disappearance, basedonchildren'sbo...</td>\n",
              "    </tr>\n",
              "    <tr>\n",
              "      <th>2</th>\n",
              "      <td>[romance, comedy]</td>\n",
              "      <td>15602</td>\n",
              "      <td>en</td>\n",
              "      <td>[grumpier, old, men]</td>\n",
              "      <td>[a, family, wedding, reignites, the, ancient, ...</td>\n",
              "      <td>[warnerbros., lancastergate]</td>\n",
              "      <td>Grumpier Old Men</td>\n",
              "      <td>[fishing, bestfriend, duringcreditsstinger, ol...</td>\n",
              "    </tr>\n",
              "    <tr>\n",
              "      <th>3</th>\n",
              "      <td>[comedy, drama, romance]</td>\n",
              "      <td>31357</td>\n",
              "      <td>en</td>\n",
              "      <td>[waiting, to, exhale]</td>\n",
              "      <td>[cheated, on, mistreated, and, stepped, on, th...</td>\n",
              "      <td>[twentiethcenturyfoxfilmcorporation]</td>\n",
              "      <td>Waiting to Exhale</td>\n",
              "      <td>[basedonnovel, interracialrelationship, single...</td>\n",
              "    </tr>\n",
              "    <tr>\n",
              "      <th>4</th>\n",
              "      <td>[comedy]</td>\n",
              "      <td>11862</td>\n",
              "      <td>en</td>\n",
              "      <td>[father, of, the, bride, part, ii]</td>\n",
              "      <td>[just, when, george, banks, has, recovered, fr...</td>\n",
              "      <td>[sandollarproductions, touchstonepictures]</td>\n",
              "      <td>Father of the Bride Part II</td>\n",
              "      <td>[baby, midlifecrisis, confidence, aging, daugh...</td>\n",
              "    </tr>\n",
              "  </tbody>\n",
              "</table>\n",
              "</div>"
            ],
            "text/plain": [
              "                         genres     id original_language  \\\n",
              "0   [animation, comedy, family]    862                en   \n",
              "1  [adventure, fantasy, family]   8844                en   \n",
              "2             [romance, comedy]  15602                en   \n",
              "3      [comedy, drama, romance]  31357                en   \n",
              "4                      [comedy]  11862                en   \n",
              "\n",
              "                       original_title  \\\n",
              "0                        [toy, story]   \n",
              "1                           [jumanji]   \n",
              "2                [grumpier, old, men]   \n",
              "3               [waiting, to, exhale]   \n",
              "4  [father, of, the, bride, part, ii]   \n",
              "\n",
              "                                            overview  \\\n",
              "0  [led, by, woody, andys, toys, live, happily, i...   \n",
              "1  [when, siblings, judy, and, peter, discover, a...   \n",
              "2  [a, family, wedding, reignites, the, ancient, ...   \n",
              "3  [cheated, on, mistreated, and, stepped, on, th...   \n",
              "4  [just, when, george, banks, has, recovered, fr...   \n",
              "\n",
              "                                production_companies  \\\n",
              "0                            [pixaranimationstudios]   \n",
              "1  [tristarpictures, teitlerfilm, interscopecommu...   \n",
              "2                       [warnerbros., lancastergate]   \n",
              "3               [twentiethcenturyfoxfilmcorporation]   \n",
              "4         [sandollarproductions, touchstonepictures]   \n",
              "\n",
              "                         title  \\\n",
              "0                    Toy Story   \n",
              "1                      Jumanji   \n",
              "2             Grumpier Old Men   \n",
              "3            Waiting to Exhale   \n",
              "4  Father of the Bride Part II   \n",
              "\n",
              "                                            keywords  \n",
              "0  [jealousy, toy, boy, friendship, friends, riva...  \n",
              "1  [boardgame, disappearance, basedonchildren'sbo...  \n",
              "2  [fishing, bestfriend, duringcreditsstinger, ol...  \n",
              "3  [basedonnovel, interracialrelationship, single...  \n",
              "4  [baby, midlifecrisis, confidence, aging, daugh...  "
            ]
          },
          "execution_count": 32,
          "metadata": {},
          "output_type": "execute_result"
        }
      ],
      "source": [
        "movies_data_required.head()"
      ]
    },
    {
      "cell_type": "code",
      "execution_count": 33,
      "metadata": {
        "id": "zP_j2kelKqtg"
      },
      "outputs": [],
      "source": [
        "def tolist(lang):\n",
        "  try:\n",
        "    langualge_list =  lang.split()\n",
        "  except:\n",
        "    langualge_list = []\n",
        "  return langualge_list"
      ]
    },
    {
      "cell_type": "code",
      "execution_count": 34,
      "metadata": {
        "id": "1jOW4zCkKtLv"
      },
      "outputs": [],
      "source": [
        "movies_data_required['original_language'] = movies_data_required['original_language'].apply(tolist)"
      ]
    },
    {
      "cell_type": "code",
      "execution_count": 35,
      "metadata": {
        "colab": {
          "base_uri": "https://localhost:8080/",
          "height": 293
        },
        "id": "Q0xYS5fsLbZg",
        "outputId": "2e0400bb-15a6-4679-ab6e-f6a9a600af27"
      },
      "outputs": [
        {
          "data": {
            "text/html": [
              "<div>\n",
              "<style scoped>\n",
              "    .dataframe tbody tr th:only-of-type {\n",
              "        vertical-align: middle;\n",
              "    }\n",
              "\n",
              "    .dataframe tbody tr th {\n",
              "        vertical-align: top;\n",
              "    }\n",
              "\n",
              "    .dataframe thead th {\n",
              "        text-align: right;\n",
              "    }\n",
              "</style>\n",
              "<table border=\"1\" class=\"dataframe\">\n",
              "  <thead>\n",
              "    <tr style=\"text-align: right;\">\n",
              "      <th></th>\n",
              "      <th>genres</th>\n",
              "      <th>id</th>\n",
              "      <th>original_language</th>\n",
              "      <th>original_title</th>\n",
              "      <th>overview</th>\n",
              "      <th>production_companies</th>\n",
              "      <th>title</th>\n",
              "      <th>keywords</th>\n",
              "    </tr>\n",
              "  </thead>\n",
              "  <tbody>\n",
              "    <tr>\n",
              "      <th>0</th>\n",
              "      <td>[animation, comedy, family]</td>\n",
              "      <td>862</td>\n",
              "      <td>[en]</td>\n",
              "      <td>[toy, story]</td>\n",
              "      <td>[led, by, woody, andys, toys, live, happily, i...</td>\n",
              "      <td>[pixaranimationstudios]</td>\n",
              "      <td>Toy Story</td>\n",
              "      <td>[jealousy, toy, boy, friendship, friends, riva...</td>\n",
              "    </tr>\n",
              "    <tr>\n",
              "      <th>1</th>\n",
              "      <td>[adventure, fantasy, family]</td>\n",
              "      <td>8844</td>\n",
              "      <td>[en]</td>\n",
              "      <td>[jumanji]</td>\n",
              "      <td>[when, siblings, judy, and, peter, discover, a...</td>\n",
              "      <td>[tristarpictures, teitlerfilm, interscopecommu...</td>\n",
              "      <td>Jumanji</td>\n",
              "      <td>[boardgame, disappearance, basedonchildren'sbo...</td>\n",
              "    </tr>\n",
              "    <tr>\n",
              "      <th>2</th>\n",
              "      <td>[romance, comedy]</td>\n",
              "      <td>15602</td>\n",
              "      <td>[en]</td>\n",
              "      <td>[grumpier, old, men]</td>\n",
              "      <td>[a, family, wedding, reignites, the, ancient, ...</td>\n",
              "      <td>[warnerbros., lancastergate]</td>\n",
              "      <td>Grumpier Old Men</td>\n",
              "      <td>[fishing, bestfriend, duringcreditsstinger, ol...</td>\n",
              "    </tr>\n",
              "    <tr>\n",
              "      <th>3</th>\n",
              "      <td>[comedy, drama, romance]</td>\n",
              "      <td>31357</td>\n",
              "      <td>[en]</td>\n",
              "      <td>[waiting, to, exhale]</td>\n",
              "      <td>[cheated, on, mistreated, and, stepped, on, th...</td>\n",
              "      <td>[twentiethcenturyfoxfilmcorporation]</td>\n",
              "      <td>Waiting to Exhale</td>\n",
              "      <td>[basedonnovel, interracialrelationship, single...</td>\n",
              "    </tr>\n",
              "    <tr>\n",
              "      <th>4</th>\n",
              "      <td>[comedy]</td>\n",
              "      <td>11862</td>\n",
              "      <td>[en]</td>\n",
              "      <td>[father, of, the, bride, part, ii]</td>\n",
              "      <td>[just, when, george, banks, has, recovered, fr...</td>\n",
              "      <td>[sandollarproductions, touchstonepictures]</td>\n",
              "      <td>Father of the Bride Part II</td>\n",
              "      <td>[baby, midlifecrisis, confidence, aging, daugh...</td>\n",
              "    </tr>\n",
              "  </tbody>\n",
              "</table>\n",
              "</div>"
            ],
            "text/plain": [
              "                         genres     id original_language  \\\n",
              "0   [animation, comedy, family]    862              [en]   \n",
              "1  [adventure, fantasy, family]   8844              [en]   \n",
              "2             [romance, comedy]  15602              [en]   \n",
              "3      [comedy, drama, romance]  31357              [en]   \n",
              "4                      [comedy]  11862              [en]   \n",
              "\n",
              "                       original_title  \\\n",
              "0                        [toy, story]   \n",
              "1                           [jumanji]   \n",
              "2                [grumpier, old, men]   \n",
              "3               [waiting, to, exhale]   \n",
              "4  [father, of, the, bride, part, ii]   \n",
              "\n",
              "                                            overview  \\\n",
              "0  [led, by, woody, andys, toys, live, happily, i...   \n",
              "1  [when, siblings, judy, and, peter, discover, a...   \n",
              "2  [a, family, wedding, reignites, the, ancient, ...   \n",
              "3  [cheated, on, mistreated, and, stepped, on, th...   \n",
              "4  [just, when, george, banks, has, recovered, fr...   \n",
              "\n",
              "                                production_companies  \\\n",
              "0                            [pixaranimationstudios]   \n",
              "1  [tristarpictures, teitlerfilm, interscopecommu...   \n",
              "2                       [warnerbros., lancastergate]   \n",
              "3               [twentiethcenturyfoxfilmcorporation]   \n",
              "4         [sandollarproductions, touchstonepictures]   \n",
              "\n",
              "                         title  \\\n",
              "0                    Toy Story   \n",
              "1                      Jumanji   \n",
              "2             Grumpier Old Men   \n",
              "3            Waiting to Exhale   \n",
              "4  Father of the Bride Part II   \n",
              "\n",
              "                                            keywords  \n",
              "0  [jealousy, toy, boy, friendship, friends, riva...  \n",
              "1  [boardgame, disappearance, basedonchildren'sbo...  \n",
              "2  [fishing, bestfriend, duringcreditsstinger, ol...  \n",
              "3  [basedonnovel, interracialrelationship, single...  \n",
              "4  [baby, midlifecrisis, confidence, aging, daugh...  "
            ]
          },
          "execution_count": 35,
          "metadata": {},
          "output_type": "execute_result"
        }
      ],
      "source": [
        "movies_data_required.head()"
      ]
    },
    {
      "cell_type": "code",
      "execution_count": 36,
      "metadata": {
        "id": "-8M1QTIrDweo"
      },
      "outputs": [],
      "source": [
        "movies_data_required_copy = movies_data_required.copy(deep=True)"
      ]
    },
    {
      "cell_type": "code",
      "execution_count": 37,
      "metadata": {
        "id": "kryeM58REQ3t"
      },
      "outputs": [],
      "source": [
        "movies_df_final1 = movies_data_required.copy(deep=True)\n",
        "movies_df_final1['attributes'] = movies_data_required['genres'] + movies_data_required['original_language'] + movies_data_required['overview'] + movies_data_required['production_companies'] +\\\n",
        "movies_data_required['keywords']"
      ]
    },
    {
      "cell_type": "code",
      "execution_count": 38,
      "metadata": {
        "id": "I1rQWp8XKeqk"
      },
      "outputs": [],
      "source": [
        "movies_df_final1 = movies_df_final1.drop(['genres', 'original_language', 'original_title', 'overview', 'production_companies', 'keywords'], axis = 1)"
      ]
    },
    {
      "cell_type": "code",
      "execution_count": 39,
      "metadata": {
        "colab": {
          "base_uri": "https://localhost:8080/",
          "height": 206
        },
        "id": "Yd5AvYIkL8FC",
        "outputId": "4f44e5fe-1dfd-4387-9674-f62b536bea8b"
      },
      "outputs": [
        {
          "data": {
            "text/html": [
              "<div>\n",
              "<style scoped>\n",
              "    .dataframe tbody tr th:only-of-type {\n",
              "        vertical-align: middle;\n",
              "    }\n",
              "\n",
              "    .dataframe tbody tr th {\n",
              "        vertical-align: top;\n",
              "    }\n",
              "\n",
              "    .dataframe thead th {\n",
              "        text-align: right;\n",
              "    }\n",
              "</style>\n",
              "<table border=\"1\" class=\"dataframe\">\n",
              "  <thead>\n",
              "    <tr style=\"text-align: right;\">\n",
              "      <th></th>\n",
              "      <th>id</th>\n",
              "      <th>title</th>\n",
              "      <th>attributes</th>\n",
              "    </tr>\n",
              "  </thead>\n",
              "  <tbody>\n",
              "    <tr>\n",
              "      <th>0</th>\n",
              "      <td>862</td>\n",
              "      <td>Toy Story</td>\n",
              "      <td>[animation, comedy, family, en, led, by, woody...</td>\n",
              "    </tr>\n",
              "    <tr>\n",
              "      <th>1</th>\n",
              "      <td>8844</td>\n",
              "      <td>Jumanji</td>\n",
              "      <td>[adventure, fantasy, family, en, when, sibling...</td>\n",
              "    </tr>\n",
              "    <tr>\n",
              "      <th>2</th>\n",
              "      <td>15602</td>\n",
              "      <td>Grumpier Old Men</td>\n",
              "      <td>[romance, comedy, en, a, family, wedding, reig...</td>\n",
              "    </tr>\n",
              "    <tr>\n",
              "      <th>3</th>\n",
              "      <td>31357</td>\n",
              "      <td>Waiting to Exhale</td>\n",
              "      <td>[comedy, drama, romance, en, cheated, on, mist...</td>\n",
              "    </tr>\n",
              "    <tr>\n",
              "      <th>4</th>\n",
              "      <td>11862</td>\n",
              "      <td>Father of the Bride Part II</td>\n",
              "      <td>[comedy, en, just, when, george, banks, has, r...</td>\n",
              "    </tr>\n",
              "  </tbody>\n",
              "</table>\n",
              "</div>"
            ],
            "text/plain": [
              "      id                        title  \\\n",
              "0    862                    Toy Story   \n",
              "1   8844                      Jumanji   \n",
              "2  15602             Grumpier Old Men   \n",
              "3  31357            Waiting to Exhale   \n",
              "4  11862  Father of the Bride Part II   \n",
              "\n",
              "                                          attributes  \n",
              "0  [animation, comedy, family, en, led, by, woody...  \n",
              "1  [adventure, fantasy, family, en, when, sibling...  \n",
              "2  [romance, comedy, en, a, family, wedding, reig...  \n",
              "3  [comedy, drama, romance, en, cheated, on, mist...  \n",
              "4  [comedy, en, just, when, george, banks, has, r...  "
            ]
          },
          "execution_count": 39,
          "metadata": {},
          "output_type": "execute_result"
        }
      ],
      "source": [
        "movies_df_final1.head()"
      ]
    },
    {
      "cell_type": "code",
      "execution_count": 40,
      "metadata": {
        "id": "eVmr-k7GMdG6"
      },
      "outputs": [],
      "source": [
        "movies_df_final1['attributes'] = movies_df_final1['attributes'].apply(lambda x: \" \".join(x))"
      ]
    },
    {
      "cell_type": "code",
      "execution_count": 41,
      "metadata": {
        "colab": {
          "base_uri": "https://localhost:8080/",
          "height": 206
        },
        "id": "imM3PcRVNSQc",
        "outputId": "ea8d7e73-8fc1-43a2-cafc-1ef5e8403ddc"
      },
      "outputs": [
        {
          "data": {
            "text/html": [
              "<div>\n",
              "<style scoped>\n",
              "    .dataframe tbody tr th:only-of-type {\n",
              "        vertical-align: middle;\n",
              "    }\n",
              "\n",
              "    .dataframe tbody tr th {\n",
              "        vertical-align: top;\n",
              "    }\n",
              "\n",
              "    .dataframe thead th {\n",
              "        text-align: right;\n",
              "    }\n",
              "</style>\n",
              "<table border=\"1\" class=\"dataframe\">\n",
              "  <thead>\n",
              "    <tr style=\"text-align: right;\">\n",
              "      <th></th>\n",
              "      <th>id</th>\n",
              "      <th>title</th>\n",
              "      <th>attributes</th>\n",
              "    </tr>\n",
              "  </thead>\n",
              "  <tbody>\n",
              "    <tr>\n",
              "      <th>2429</th>\n",
              "      <td>100</td>\n",
              "      <td>Lock, Stock and Two Smoking Barrels</td>\n",
              "      <td>comedy crime en a card sharp and his unwilling...</td>\n",
              "    </tr>\n",
              "    <tr>\n",
              "      <th>13609</th>\n",
              "      <td>10000</td>\n",
              "      <td>La estrategia del caracol</td>\n",
              "      <td>comedy drama es a group of tenants living in a...</td>\n",
              "    </tr>\n",
              "    <tr>\n",
              "      <th>4435</th>\n",
              "      <td>10001</td>\n",
              "      <td>Young Einstein</td>\n",
              "      <td>comedy science fiction en albert einstein is t...</td>\n",
              "    </tr>\n",
              "    <tr>\n",
              "      <th>17451</th>\n",
              "      <td>100010</td>\n",
              "      <td>Flight Command</td>\n",
              "      <td>drama war en a rookie flyer ens alan drake joi...</td>\n",
              "    </tr>\n",
              "    <tr>\n",
              "      <th>36943</th>\n",
              "      <td>100017</td>\n",
              "      <td>Hounded</td>\n",
              "      <td>drama de deals with the obsessive relationship...</td>\n",
              "    </tr>\n",
              "  </tbody>\n",
              "</table>\n",
              "</div>"
            ],
            "text/plain": [
              "           id                                title  \\\n",
              "2429      100  Lock, Stock and Two Smoking Barrels   \n",
              "13609   10000            La estrategia del caracol   \n",
              "4435    10001                       Young Einstein   \n",
              "17451  100010                       Flight Command   \n",
              "36943  100017                              Hounded   \n",
              "\n",
              "                                              attributes  \n",
              "2429   comedy crime en a card sharp and his unwilling...  \n",
              "13609  comedy drama es a group of tenants living in a...  \n",
              "4435   comedy science fiction en albert einstein is t...  \n",
              "17451  drama war en a rookie flyer ens alan drake joi...  \n",
              "36943  drama de deals with the obsessive relationship...  "
            ]
          },
          "execution_count": 41,
          "metadata": {},
          "output_type": "execute_result"
        }
      ],
      "source": [
        "movies_df_final1.sort_values(by='id').head()"
      ]
    },
    {
      "cell_type": "code",
      "execution_count": 42,
      "metadata": {
        "colab": {
          "base_uri": "https://localhost:8080/"
        },
        "id": "cfYotu7TNf2E",
        "outputId": "e71fa23e-c4d8-48e9-ddb8-d03d715748b8"
      },
      "outputs": [
        {
          "data": {
            "text/plain": [
              "id            0\n",
              "title         3\n",
              "attributes    0\n",
              "dtype: int64"
            ]
          },
          "execution_count": 42,
          "metadata": {},
          "output_type": "execute_result"
        }
      ],
      "source": [
        "movies_df_final1.isna().sum()"
      ]
    },
    {
      "cell_type": "code",
      "execution_count": 43,
      "metadata": {
        "id": "qhvzLMXAN6g1"
      },
      "outputs": [],
      "source": [
        "movies_df_final1.dropna(inplace=True)"
      ]
    },
    {
      "cell_type": "code",
      "execution_count": 44,
      "metadata": {
        "colab": {
          "base_uri": "https://localhost:8080/"
        },
        "id": "VXBzTx_2OLoP",
        "outputId": "8704a0d8-dd8c-48e6-c1f8-290df2f6d3a4"
      },
      "outputs": [
        {
          "data": {
            "text/plain": [
              "id            0\n",
              "title         0\n",
              "attributes    0\n",
              "dtype: int64"
            ]
          },
          "execution_count": 44,
          "metadata": {},
          "output_type": "execute_result"
        }
      ],
      "source": [
        "movies_df_final1.isna().sum()"
      ]
    },
    {
      "cell_type": "code",
      "execution_count": 45,
      "metadata": {
        "id": "0rI3D2YQONUD"
      },
      "outputs": [],
      "source": [
        "from sklearn.feature_extraction.text import CountVectorizer\n",
        "c_vectorizer = CountVectorizer(max_features=8000, stop_words='english')"
      ]
    },
    {
      "cell_type": "code",
      "execution_count": 46,
      "metadata": {
        "id": "269Ua1YZOgUr"
      },
      "outputs": [],
      "source": [
        "from nltk.stem.porter import PorterStemmer\n",
        "Stemmer = PorterStemmer()"
      ]
    },
    {
      "cell_type": "code",
      "execution_count": 47,
      "metadata": {
        "id": "DEv24d10O0YP"
      },
      "outputs": [],
      "source": [
        "def stemming_word(attr):\n",
        "    words = []\n",
        "    for i in attr.split():\n",
        "        words.append(Stemmer.stem(i))\n",
        "    attributes_str = \" \".join(words)\n",
        "    return attributes_str"
      ]
    },
    {
      "cell_type": "code",
      "execution_count": 48,
      "metadata": {
        "id": "nlm4PBS-Ot5h"
      },
      "outputs": [],
      "source": [
        "movies_df_final1['attributes'] = movies_df_final1['attributes'].apply(stemming_word)"
      ]
    },
    {
      "cell_type": "code",
      "execution_count": 49,
      "metadata": {
        "colab": {
          "base_uri": "https://localhost:8080/",
          "height": 206
        },
        "id": "XwgR4n_BQp9B",
        "outputId": "151392e6-b334-4594-8870-fbd30159d64d"
      },
      "outputs": [
        {
          "data": {
            "text/html": [
              "<div>\n",
              "<style scoped>\n",
              "    .dataframe tbody tr th:only-of-type {\n",
              "        vertical-align: middle;\n",
              "    }\n",
              "\n",
              "    .dataframe tbody tr th {\n",
              "        vertical-align: top;\n",
              "    }\n",
              "\n",
              "    .dataframe thead th {\n",
              "        text-align: right;\n",
              "    }\n",
              "</style>\n",
              "<table border=\"1\" class=\"dataframe\">\n",
              "  <thead>\n",
              "    <tr style=\"text-align: right;\">\n",
              "      <th></th>\n",
              "      <th>id</th>\n",
              "      <th>title</th>\n",
              "      <th>attributes</th>\n",
              "    </tr>\n",
              "  </thead>\n",
              "  <tbody>\n",
              "    <tr>\n",
              "      <th>0</th>\n",
              "      <td>862</td>\n",
              "      <td>Toy Story</td>\n",
              "      <td>anim comedi famili en led by woodi andi toy li...</td>\n",
              "    </tr>\n",
              "    <tr>\n",
              "      <th>1</th>\n",
              "      <td>8844</td>\n",
              "      <td>Jumanji</td>\n",
              "      <td>adventur fantasi famili en when sibl judi and ...</td>\n",
              "    </tr>\n",
              "    <tr>\n",
              "      <th>2</th>\n",
              "      <td>15602</td>\n",
              "      <td>Grumpier Old Men</td>\n",
              "      <td>romanc comedi en a famili wed reignit the anci...</td>\n",
              "    </tr>\n",
              "    <tr>\n",
              "      <th>3</th>\n",
              "      <td>31357</td>\n",
              "      <td>Waiting to Exhale</td>\n",
              "      <td>comedi drama romanc en cheat on mistreat and s...</td>\n",
              "    </tr>\n",
              "    <tr>\n",
              "      <th>4</th>\n",
              "      <td>11862</td>\n",
              "      <td>Father of the Bride Part II</td>\n",
              "      <td>comedi en just when georg bank ha recov from h...</td>\n",
              "    </tr>\n",
              "  </tbody>\n",
              "</table>\n",
              "</div>"
            ],
            "text/plain": [
              "      id                        title  \\\n",
              "0    862                    Toy Story   \n",
              "1   8844                      Jumanji   \n",
              "2  15602             Grumpier Old Men   \n",
              "3  31357            Waiting to Exhale   \n",
              "4  11862  Father of the Bride Part II   \n",
              "\n",
              "                                          attributes  \n",
              "0  anim comedi famili en led by woodi andi toy li...  \n",
              "1  adventur fantasi famili en when sibl judi and ...  \n",
              "2  romanc comedi en a famili wed reignit the anci...  \n",
              "3  comedi drama romanc en cheat on mistreat and s...  \n",
              "4  comedi en just when georg bank ha recov from h...  "
            ]
          },
          "execution_count": 49,
          "metadata": {},
          "output_type": "execute_result"
        }
      ],
      "source": [
        "movies_df_final1.head()"
      ]
    },
    {
      "cell_type": "code",
      "execution_count": 50,
      "metadata": {
        "id": "LPCd-S-gRMmV"
      },
      "outputs": [],
      "source": [
        "movies_df_final1_small = movies_df_final1.iloc[0:10000,:]"
      ]
    },
    {
      "cell_type": "code",
      "execution_count": 51,
      "metadata": {
        "id": "VUA5XZ9xPQun"
      },
      "outputs": [],
      "source": [
        "from sklearn.feature_extraction.text import CountVectorizer\n",
        "c_vectorizer = CountVectorizer(max_features=10000, stop_words='english')"
      ]
    },
    {
      "cell_type": "code",
      "execution_count": 52,
      "metadata": {
        "id": "nxdA4UHePUXk"
      },
      "outputs": [],
      "source": [
        "#movies_as_vector = c_vectorizer.fit_transform(movies_df_final1['attributes']).toarray()"
      ]
    },
    {
      "cell_type": "code",
      "execution_count": 53,
      "metadata": {
        "id": "iDSPIAkDPdVB"
      },
      "outputs": [],
      "source": [
        "from sklearn.metrics.pairwise import cosine_similarity\n",
        "#movie_similarity = cosine_similarity(movies_as_vector)"
      ]
    },
    {
      "cell_type": "code",
      "execution_count": 54,
      "metadata": {},
      "outputs": [],
      "source": [
        "movies_as_vector = c_vectorizer.fit_transform(movies_df_final1_small['attributes']).toarray()"
      ]
    },
    {
      "cell_type": "code",
      "execution_count": 55,
      "metadata": {},
      "outputs": [],
      "source": [
        "movie_similarity = cosine_similarity(movies_as_vector)"
      ]
    },
    {
      "cell_type": "code",
      "execution_count": 56,
      "metadata": {},
      "outputs": [
        {
          "name": "stdout",
          "output_type": "stream",
          "text": [
            "Brainscan\n",
            "The Last Starfighter\n",
            "Rollerball\n",
            "Dungeons & Dragons\n",
            "Word Wars\n",
            "Quintet\n",
            "The Last of Sheila\n",
            "The Indian in the Cupboard\n",
            "Resurrection of The Little Match Girl\n",
            "James and the Giant Peach\n"
          ]
        }
      ],
      "source": [
        "movie = 'Jumanji'\n",
        "def similar_movie(movie):\n",
        "    index = movies_df_final1_small[movies_df_final1_small['title'] == movie].index[0]\n",
        "    similarity_vector = movie_similarity[index]\n",
        "    similar_movies = sorted(list(enumerate(similarity_vector)), key = lambda x: x[1], reverse = True)\n",
        "    top_ten_movies = similar_movies[1:11]\n",
        "    for i in top_ten_movies:\n",
        "        print(movies_df_final1_small.iloc[i[0]].title)\n",
        "similar_movie(movie)"
      ]
    },
    {
      "cell_type": "code",
      "execution_count": 57,
      "metadata": {},
      "outputs": [],
      "source": [
        "np.save('F:/Test_Environment/array_small.npy', movie_similarity)"
      ]
    },
    {
      "cell_type": "code",
      "execution_count": 60,
      "metadata": {},
      "outputs": [],
      "source": [
        "similarity_array_loaded = np.load('F:/Test_Environment/array_small.npy')"
      ]
    },
    {
      "cell_type": "code",
      "execution_count": 62,
      "metadata": {},
      "outputs": [
        {
          "data": {
            "text/plain": [
              "(10000, 10000)"
            ]
          },
          "execution_count": 62,
          "metadata": {},
          "output_type": "execute_result"
        }
      ],
      "source": [
        "similarity_array_loaded.shape"
      ]
    },
    {
      "cell_type": "code",
      "execution_count": 63,
      "metadata": {},
      "outputs": [],
      "source": [
        "movies_list = movies_df_final1_small['title'].to_list()"
      ]
    },
    {
      "cell_type": "code",
      "execution_count": 64,
      "metadata": {},
      "outputs": [],
      "source": [
        "recommendations_df = pd.DataFrame(movies_list)"
      ]
    },
    {
      "cell_type": "code",
      "execution_count": 65,
      "metadata": {},
      "outputs": [],
      "source": [
        "recommendations = []\n",
        "for i, title in recommendations_df.iterrows():\n",
        "    movies = []\n",
        "    similarity_vector = movie_similarity[i]\n",
        "    similar_movies = sorted(list(enumerate(similarity_vector)), key = lambda x: x[1], reverse = True)\n",
        "    top_five_movies = similar_movies[1:6]\n",
        "    for i in top_five_movies:\n",
        "        name = movies_df_final1_small.iloc[i[0]].title\n",
        "        movies.append(name)\n",
        "    recommendations.append(movies)"
      ]
    },
    {
      "cell_type": "code",
      "execution_count": 66,
      "metadata": {},
      "outputs": [],
      "source": [
        "recommendations_df['recommended_movies'] = pd.DataFrame({'recommended_movies': recommendations})"
      ]
    },
    {
      "cell_type": "code",
      "execution_count": 67,
      "metadata": {},
      "outputs": [
        {
          "data": {
            "text/html": [
              "<div>\n",
              "<style scoped>\n",
              "    .dataframe tbody tr th:only-of-type {\n",
              "        vertical-align: middle;\n",
              "    }\n",
              "\n",
              "    .dataframe tbody tr th {\n",
              "        vertical-align: top;\n",
              "    }\n",
              "\n",
              "    .dataframe thead th {\n",
              "        text-align: right;\n",
              "    }\n",
              "</style>\n",
              "<table border=\"1\" class=\"dataframe\">\n",
              "  <thead>\n",
              "    <tr style=\"text-align: right;\">\n",
              "      <th></th>\n",
              "      <th>title</th>\n",
              "      <th>recommended_movies</th>\n",
              "    </tr>\n",
              "  </thead>\n",
              "  <tbody>\n",
              "    <tr>\n",
              "      <th>0</th>\n",
              "      <td>Toy Story</td>\n",
              "      <td>[Toy Story 2, The Champ, Carried Away, The Mil...</td>\n",
              "    </tr>\n",
              "    <tr>\n",
              "      <th>1</th>\n",
              "      <td>Jumanji</td>\n",
              "      <td>[Brainscan, The Last Starfighter, Rollerball, ...</td>\n",
              "    </tr>\n",
              "    <tr>\n",
              "      <th>2</th>\n",
              "      <td>Grumpier Old Men</td>\n",
              "      <td>[Gone Fishin', The Incredible Mr. Limpet, Pecu...</td>\n",
              "    </tr>\n",
              "    <tr>\n",
              "      <th>3</th>\n",
              "      <td>Waiting to Exhale</td>\n",
              "      <td>[Snow days, Worth Winning, The Girl, Next Stop...</td>\n",
              "    </tr>\n",
              "    <tr>\n",
              "      <th>4</th>\n",
              "      <td>Father of the Bride Part II</td>\n",
              "      <td>[Father of the Bride, About Schmidt, All Night...</td>\n",
              "    </tr>\n",
              "  </tbody>\n",
              "</table>\n",
              "</div>"
            ],
            "text/plain": [
              "                         title  \\\n",
              "0                    Toy Story   \n",
              "1                      Jumanji   \n",
              "2             Grumpier Old Men   \n",
              "3            Waiting to Exhale   \n",
              "4  Father of the Bride Part II   \n",
              "\n",
              "                                  recommended_movies  \n",
              "0  [Toy Story 2, The Champ, Carried Away, The Mil...  \n",
              "1  [Brainscan, The Last Starfighter, Rollerball, ...  \n",
              "2  [Gone Fishin', The Incredible Mr. Limpet, Pecu...  \n",
              "3  [Snow days, Worth Winning, The Girl, Next Stop...  \n",
              "4  [Father of the Bride, About Schmidt, All Night...  "
            ]
          },
          "execution_count": 67,
          "metadata": {},
          "output_type": "execute_result"
        }
      ],
      "source": [
        "recommendations_df.rename({0:'title'}, axis= 1, inplace=True)\n",
        "recommendations_df.head()"
      ]
    },
    {
      "cell_type": "code",
      "execution_count": 68,
      "metadata": {},
      "outputs": [],
      "source": [
        "recommendations_df.to_csv('F:/Test_Environment/RECSYS-GEmbeddings/recommendations.csv')"
      ]
    },
    {
      "cell_type": "code",
      "execution_count": 69,
      "metadata": {},
      "outputs": [],
      "source": [
        "import networkx as nx"
      ]
    },
    {
      "cell_type": "code",
      "execution_count": 70,
      "metadata": {},
      "outputs": [],
      "source": [
        "G_small = nx.Graph()\n",
        "for index, row in recommendations_df[:5].iterrows():\n",
        "    movie_title = row['title']\n",
        "    recommendations = row['recommended_movies']\n",
        "    \n",
        "    # Add movie title as node\n",
        "    G_small.add_node(movie_title)\n",
        "    \n",
        "    # Add recommendation titles as nodes\n",
        "    for recommendation in recommendations:\n",
        "        G_small.add_node(recommendation)\n",
        "        \n",
        "        # Add edges connecting movie title to its recommendations\n",
        "        G_small.add_edge(movie_title, recommendation, connection='similar_movie')"
      ]
    },
    {
      "cell_type": "code",
      "execution_count": 71,
      "metadata": {},
      "outputs": [
        {
          "data": {
            "image/png": "[encoded data removed]",
            "text/plain": [
              "<Figure size 640x480 with 1 Axes>"
            ]
          },
          "metadata": {},
          "output_type": "display_data"
        }
      ],
      "source": [
        "nx.draw(G_small, with_labels=True)"
      ]
    },
    {
      "cell_type": "code",
      "execution_count": 72,
      "metadata": {},
      "outputs": [
        {
          "data": {
            "image/png": "[encoded data removed]",
            "text/plain": [
              "<Figure size 600x600 with 1 Axes>"
            ]
          },
          "metadata": {},
          "output_type": "display_data"
        }
      ],
      "source": [
        "import matplotlib.pyplot as plt\n",
        "plt.figure(figsize=(6, 6))  # You can set the figure size\n",
        "nx.draw(G_small, with_labels=True, node_color='lightblue', edge_color='gray', node_size=500, font_size=10)\n",
        "\n",
        "# Save the plot to a PNG file\n",
        "plt.savefig(\"F:/Test_Environment/RECSYS-GEmbeddings/graph.png\")"
      ]
    },
    {
      "cell_type": "code",
      "execution_count": 73,
      "metadata": {},
      "outputs": [
        {
          "data": {
            "text/html": [
              "<div>\n",
              "<style scoped>\n",
              "    .dataframe tbody tr th:only-of-type {\n",
              "        vertical-align: middle;\n",
              "    }\n",
              "\n",
              "    .dataframe tbody tr th {\n",
              "        vertical-align: top;\n",
              "    }\n",
              "\n",
              "    .dataframe thead th {\n",
              "        text-align: right;\n",
              "    }\n",
              "</style>\n",
              "<table border=\"1\" class=\"dataframe\">\n",
              "  <thead>\n",
              "    <tr style=\"text-align: right;\">\n",
              "      <th></th>\n",
              "      <th>title</th>\n",
              "      <th>recommended_movies</th>\n",
              "    </tr>\n",
              "  </thead>\n",
              "  <tbody>\n",
              "    <tr>\n",
              "      <th>0</th>\n",
              "      <td>Toy Story</td>\n",
              "      <td>[Toy Story 2, The Champ, Carried Away, The Mil...</td>\n",
              "    </tr>\n",
              "    <tr>\n",
              "      <th>1</th>\n",
              "      <td>Jumanji</td>\n",
              "      <td>[Brainscan, The Last Starfighter, Rollerball, ...</td>\n",
              "    </tr>\n",
              "    <tr>\n",
              "      <th>2</th>\n",
              "      <td>Grumpier Old Men</td>\n",
              "      <td>[Gone Fishin', The Incredible Mr. Limpet, Pecu...</td>\n",
              "    </tr>\n",
              "    <tr>\n",
              "      <th>3</th>\n",
              "      <td>Waiting to Exhale</td>\n",
              "      <td>[Snow days, Worth Winning, The Girl, Next Stop...</td>\n",
              "    </tr>\n",
              "    <tr>\n",
              "      <th>4</th>\n",
              "      <td>Father of the Bride Part II</td>\n",
              "      <td>[Father of the Bride, About Schmidt, All Night...</td>\n",
              "    </tr>\n",
              "  </tbody>\n",
              "</table>\n",
              "</div>"
            ],
            "text/plain": [
              "                         title  \\\n",
              "0                    Toy Story   \n",
              "1                      Jumanji   \n",
              "2             Grumpier Old Men   \n",
              "3            Waiting to Exhale   \n",
              "4  Father of the Bride Part II   \n",
              "\n",
              "                                  recommended_movies  \n",
              "0  [Toy Story 2, The Champ, Carried Away, The Mil...  \n",
              "1  [Brainscan, The Last Starfighter, Rollerball, ...  \n",
              "2  [Gone Fishin', The Incredible Mr. Limpet, Pecu...  \n",
              "3  [Snow days, Worth Winning, The Girl, Next Stop...  \n",
              "4  [Father of the Bride, About Schmidt, All Night...  "
            ]
          },
          "execution_count": 73,
          "metadata": {},
          "output_type": "execute_result"
        }
      ],
      "source": [
        "recommendations_df[:5]"
      ]
    },
    {
      "cell_type": "code",
      "execution_count": 74,
      "metadata": {},
      "outputs": [
        {
          "data": {
            "image/svg+xml": [
              "<?xml version=\"1.0\" encoding=\"UTF-8\" standalone=\"no\"?>\n",
              "<!DOCTYPE svg PUBLIC \"-//W3C//DTD SVG 1.1//EN\"\n",
              " \"http://www.w3.org/Graphics/SVG/1.1/DTD/svg11.dtd\">\n",
              "<!-- Generated by graphviz version 5.0.0 (20220707.1540)\n",
              " -->\n",
              "<!-- Pages: 1 -->\n",
              "<svg width=\"607pt\" height=\"1290pt\"\n",
              " viewBox=\"0.00 0.00 606.86 1290.00\" xmlns=\"http://www.w3.org/2000/svg\" xmlns:xlink=\"http://www.w3.org/1999/xlink\">\n",
              "<g id=\"graph0\" class=\"graph\" transform=\"scale(1 1) rotate(0) translate(4 1286)\">\n",
              "<polygon fill=\"white\" stroke=\"transparent\" points=\"-4,4 -4,-1286 602.86,-1286 602.86,4 -4,4\"/>\n",
              "<!-- Father of the Bride Part II -->\n",
              "<g id=\"node1\" class=\"node\">\n",
              "<title>Father of the Bride Part II</title>\n",
              "<ellipse fill=\"none\" stroke=\"black\" cx=\"104.64\" cy=\"-126\" rx=\"104.78\" ry=\"18\"/>\n",
              "<text text-anchor=\"middle\" x=\"104.64\" y=\"-122.3\" font-family=\"Times New Roman,serif\" font-size=\"14.00\">Father of the Bride Part II</text>\n",
              "</g>\n",
              "<!-- Kuffs -->\n",
              "<g id=\"node13\" class=\"node\">\n",
              "<title>Kuffs</title>\n",
              "<ellipse fill=\"none\" stroke=\"black\" cx=\"461.07\" cy=\"-234\" rx=\"31.4\" ry=\"18\"/>\n",
              "<text text-anchor=\"middle\" x=\"461.07\" y=\"-230.3\" font-family=\"Times New Roman,serif\" font-size=\"14.00\">Kuffs</text>\n",
              "</g>\n",
              "<!-- Father of the Bride Part II&#45;&gt;Kuffs -->\n",
              "<g id=\"edge8\" class=\"edge\">\n",
              "<title>Father of the Bride Part II&#45;&gt;Kuffs</title>\n",
              "<path fill=\"none\" stroke=\"black\" d=\"M144.24,-142.76C168,-152.86 199.2,-165.71 227.28,-176 269.38,-191.42 279.88,-195.75 323.28,-207 355.8,-215.43 393.26,-222.65 420.74,-227.5\"/>\n",
              "<polygon fill=\"black\" stroke=\"black\" points=\"420.31,-230.98 430.76,-229.24 421.51,-224.08 420.31,-230.98\"/>\n",
              "<text text-anchor=\"middle\" x=\"266.28\" y=\"-206.8\" font-family=\"Times New Roman,serif\" font-size=\"14.00\">similar_movie</text>\n",
              "</g>\n",
              "<!-- Father of the Bride -->\n",
              "<g id=\"node15\" class=\"node\">\n",
              "<title>Father of the Bride</title>\n",
              "<ellipse fill=\"none\" stroke=\"black\" cx=\"461.07\" cy=\"-180\" rx=\"79.09\" ry=\"18\"/>\n",
              "<text text-anchor=\"middle\" x=\"461.07\" y=\"-176.3\" font-family=\"Times New Roman,serif\" font-size=\"14.00\">Father of the Bride</text>\n",
              "</g>\n",
              "<!-- Father of the Bride Part II&#45;&gt;Father of the Bride -->\n",
              "<g id=\"edge10\" class=\"edge\">\n",
              "<title>Father of the Bride Part II&#45;&gt;Father of the Bride</title>\n",
              "<path fill=\"none\" stroke=\"black\" d=\"M182.52,-138.08C197.37,-140.39 212.81,-142.78 227.28,-145 279.67,-153.03 338.73,-161.91 384.24,-168.71\"/>\n",
              "<polygon fill=\"black\" stroke=\"black\" points=\"383.92,-172.2 394.33,-170.22 384.96,-165.28 383.92,-172.2\"/>\n",
              "<text text-anchor=\"middle\" x=\"266.28\" y=\"-160.8\" font-family=\"Times New Roman,serif\" font-size=\"14.00\">similar_movie</text>\n",
              "</g>\n",
              "<!-- About Schmidt -->\n",
              "<g id=\"node21\" class=\"node\">\n",
              "<title>About Schmidt</title>\n",
              "<ellipse fill=\"none\" stroke=\"black\" cx=\"461.07\" cy=\"-126\" rx=\"66.09\" ry=\"18\"/>\n",
              "<text text-anchor=\"middle\" x=\"461.07\" y=\"-122.3\" font-family=\"Times New Roman,serif\" font-size=\"14.00\">About Schmidt</text>\n",
              "</g>\n",
              "<!-- Father of the Bride Part II&#45;&gt;About Schmidt -->\n",
              "<g id=\"edge16\" class=\"edge\">\n",
              "<title>Father of the Bride Part II&#45;&gt;About Schmidt</title>\n",
              "<path fill=\"none\" stroke=\"black\" d=\"M209.59,-126C265.58,-126 333.41,-126 384.36,-126\"/>\n",
              "<polygon fill=\"black\" stroke=\"black\" points=\"384.64,-129.5 394.64,-126 384.64,-122.5 384.64,-129.5\"/>\n",
              "<text text-anchor=\"middle\" x=\"266.28\" y=\"-129.8\" font-family=\"Times New Roman,serif\" font-size=\"14.00\">similar_movie</text>\n",
              "</g>\n",
              "<!-- All Night Long -->\n",
              "<g id=\"node23\" class=\"node\">\n",
              "<title>All Night Long</title>\n",
              "<ellipse fill=\"none\" stroke=\"black\" cx=\"461.07\" cy=\"-72\" rx=\"64.19\" ry=\"18\"/>\n",
              "<text text-anchor=\"middle\" x=\"461.07\" y=\"-68.3\" font-family=\"Times New Roman,serif\" font-size=\"14.00\">All Night Long</text>\n",
              "</g>\n",
              "<!-- Father of the Bride Part II&#45;&gt;All Night Long -->\n",
              "<g id=\"edge19\" class=\"edge\">\n",
              "<title>Father of the Bride Part II&#45;&gt;All Night Long</title>\n",
              "<path fill=\"none\" stroke=\"black\" d=\"M182.52,-113.92C197.37,-111.61 212.81,-109.22 227.28,-107 283.36,-98.4 347.07,-88.84 393.64,-81.88\"/>\n",
              "<polygon fill=\"black\" stroke=\"black\" points=\"394.23,-85.33 403.61,-80.4 393.2,-78.41 394.23,-85.33\"/>\n",
              "<text text-anchor=\"middle\" x=\"266.28\" y=\"-110.8\" font-family=\"Times New Roman,serif\" font-size=\"14.00\">similar_movie</text>\n",
              "</g>\n",
              "<!-- My Boss&#39;s Daughter -->\n",
              "<g id=\"node29\" class=\"node\">\n",
              "<title>My Boss&#39;s Daughter</title>\n",
              "<ellipse fill=\"none\" stroke=\"black\" cx=\"461.07\" cy=\"-18\" rx=\"85.29\" ry=\"18\"/>\n",
              "<text text-anchor=\"middle\" x=\"461.07\" y=\"-14.3\" font-family=\"Times New Roman,serif\" font-size=\"14.00\">My Boss&#39;s Daughter</text>\n",
              "</g>\n",
              "<!-- Father of the Bride Part II&#45;&gt;My Boss&#39;s Daughter -->\n",
              "<g id=\"edge25\" class=\"edge\">\n",
              "<title>Father of the Bride Part II&#45;&gt;My Boss&#39;s Daughter</title>\n",
              "<path fill=\"none\" stroke=\"black\" d=\"M145.12,-109.38C168.81,-99.59 199.61,-87.17 227.28,-77 269.49,-61.48 279.8,-56.49 323.28,-45 342.9,-39.82 364.34,-35.13 384.3,-31.18\"/>\n",
              "<polygon fill=\"black\" stroke=\"black\" points=\"385.13,-34.58 394.28,-29.23 383.8,-27.71 385.13,-34.58\"/>\n",
              "<text text-anchor=\"middle\" x=\"266.28\" y=\"-80.8\" font-family=\"Times New Roman,serif\" font-size=\"14.00\">similar_movie</text>\n",
              "</g>\n",
              "<!-- Toy Story -->\n",
              "<g id=\"node2\" class=\"node\">\n",
              "<title>Toy Story</title>\n",
              "<ellipse fill=\"none\" stroke=\"black\" cx=\"104.64\" cy=\"-396\" rx=\"48.19\" ry=\"18\"/>\n",
              "<text text-anchor=\"middle\" x=\"104.64\" y=\"-392.3\" font-family=\"Times New Roman,serif\" font-size=\"14.00\">Toy Story</text>\n",
              "</g>\n",
              "<!-- Toy Story 2 -->\n",
              "<g id=\"node10\" class=\"node\">\n",
              "<title>Toy Story 2</title>\n",
              "<ellipse fill=\"none\" stroke=\"black\" cx=\"461.07\" cy=\"-504\" rx=\"55.49\" ry=\"18\"/>\n",
              "<text text-anchor=\"middle\" x=\"461.07\" y=\"-500.3\" font-family=\"Times New Roman,serif\" font-size=\"14.00\">Toy Story 2</text>\n",
              "</g>\n",
              "<!-- Toy Story&#45;&gt;Toy Story 2 -->\n",
              "<g id=\"edge5\" class=\"edge\">\n",
              "<title>Toy Story&#45;&gt;Toy Story 2</title>\n",
              "<path fill=\"none\" stroke=\"black\" d=\"M137.19,-409.33C161.63,-419.5 196.4,-433.65 227.28,-445 269.49,-460.52 279.8,-465.51 323.28,-477 348.57,-483.68 376.88,-489.53 401.16,-494.07\"/>\n",
              "<polygon fill=\"black\" stroke=\"black\" points=\"400.83,-497.56 411.3,-495.93 402.09,-490.68 400.83,-497.56\"/>\n",
              "<text text-anchor=\"middle\" x=\"266.28\" y=\"-474.8\" font-family=\"Times New Roman,serif\" font-size=\"14.00\">similar_movie</text>\n",
              "</g>\n",
              "<!-- The Champ -->\n",
              "<g id=\"node12\" class=\"node\">\n",
              "<title>The Champ</title>\n",
              "<ellipse fill=\"none\" stroke=\"black\" cx=\"461.07\" cy=\"-450\" rx=\"53.89\" ry=\"18\"/>\n",
              "<text text-anchor=\"middle\" x=\"461.07\" y=\"-446.3\" font-family=\"Times New Roman,serif\" font-size=\"14.00\">The Champ</text>\n",
              "</g>\n",
              "<!-- Toy Story&#45;&gt;The Champ -->\n",
              "<g id=\"edge7\" class=\"edge\">\n",
              "<title>Toy Story&#45;&gt;The Champ</title>\n",
              "<path fill=\"none\" stroke=\"black\" d=\"M149.26,-402.88C172.44,-406.51 201.4,-411.03 227.28,-415 286.56,-424.09 354.36,-434.25 401.44,-441.28\"/>\n",
              "<polygon fill=\"black\" stroke=\"black\" points=\"401.05,-444.76 411.46,-442.77 402.08,-437.84 401.05,-444.76\"/>\n",
              "<text text-anchor=\"middle\" x=\"266.28\" y=\"-429.8\" font-family=\"Times New Roman,serif\" font-size=\"14.00\">similar_movie</text>\n",
              "</g>\n",
              "<!-- The Million Dollar Duck -->\n",
              "<g id=\"node22\" class=\"node\">\n",
              "<title>The Million Dollar Duck</title>\n",
              "<ellipse fill=\"none\" stroke=\"black\" cx=\"461.07\" cy=\"-396\" rx=\"98.58\" ry=\"18\"/>\n",
              "<text text-anchor=\"middle\" x=\"461.07\" y=\"-392.3\" font-family=\"Times New Roman,serif\" font-size=\"14.00\">The Million Dollar Duck</text>\n",
              "</g>\n",
              "<!-- Toy Story&#45;&gt;The Million Dollar Duck -->\n",
              "<g id=\"edge17\" class=\"edge\">\n",
              "<title>Toy Story&#45;&gt;The Million Dollar Duck</title>\n",
              "<path fill=\"none\" stroke=\"black\" d=\"M153.07,-396C203.67,-396 285.51,-396 351.97,-396\"/>\n",
              "<polygon fill=\"black\" stroke=\"black\" points=\"352.08,-399.5 362.08,-396 352.08,-392.5 352.08,-399.5\"/>\n",
              "<text text-anchor=\"middle\" x=\"266.28\" y=\"-399.8\" font-family=\"Times New Roman,serif\" font-size=\"14.00\">similar_movie</text>\n",
              "</g>\n",
              "<!-- Carried Away -->\n",
              "<g id=\"node24\" class=\"node\">\n",
              "<title>Carried Away</title>\n",
              "<ellipse fill=\"none\" stroke=\"black\" cx=\"461.07\" cy=\"-342\" rx=\"61.19\" ry=\"18\"/>\n",
              "<text text-anchor=\"middle\" x=\"461.07\" y=\"-338.3\" font-family=\"Times New Roman,serif\" font-size=\"14.00\">Carried Away</text>\n",
              "</g>\n",
              "<!-- Toy Story&#45;&gt;Carried Away -->\n",
              "<g id=\"edge20\" class=\"edge\">\n",
              "<title>Toy Story&#45;&gt;Carried Away</title>\n",
              "<path fill=\"none\" stroke=\"black\" d=\"M149.26,-389.12C172.44,-385.49 201.4,-380.97 227.28,-377 284.3,-368.26 349.21,-358.52 395.97,-351.54\"/>\n",
              "<polygon fill=\"black\" stroke=\"black\" points=\"396.59,-354.98 405.96,-350.05 395.56,-348.06 396.59,-354.98\"/>\n",
              "<text text-anchor=\"middle\" x=\"266.28\" y=\"-380.8\" font-family=\"Times New Roman,serif\" font-size=\"14.00\">similar_movie</text>\n",
              "</g>\n",
              "<!-- Condorman -->\n",
              "<g id=\"node27\" class=\"node\">\n",
              "<title>Condorman</title>\n",
              "<ellipse fill=\"none\" stroke=\"black\" cx=\"461.07\" cy=\"-288\" rx=\"53.89\" ry=\"18\"/>\n",
              "<text text-anchor=\"middle\" x=\"461.07\" y=\"-284.3\" font-family=\"Times New Roman,serif\" font-size=\"14.00\">Condorman</text>\n",
              "</g>\n",
              "<!-- Toy Story&#45;&gt;Condorman -->\n",
              "<g id=\"edge23\" class=\"edge\">\n",
              "<title>Toy Story&#45;&gt;Condorman</title>\n",
              "<path fill=\"none\" stroke=\"black\" d=\"M136.63,-382.48C161.06,-372.02 196.09,-357.43 227.28,-346 269.38,-330.58 279.88,-326.25 323.28,-315 349.13,-308.3 378.1,-302.36 402.7,-297.77\"/>\n",
              "<polygon fill=\"black\" stroke=\"black\" points=\"403.39,-301.2 412.6,-295.95 402.13,-294.32 403.39,-301.2\"/>\n",
              "<text text-anchor=\"middle\" x=\"266.28\" y=\"-349.8\" font-family=\"Times New Roman,serif\" font-size=\"14.00\">similar_movie</text>\n",
              "</g>\n",
              "<!-- Waiting to Exhale -->\n",
              "<g id=\"node3\" class=\"node\">\n",
              "<title>Waiting to Exhale</title>\n",
              "<ellipse fill=\"none\" stroke=\"black\" cx=\"104.64\" cy=\"-886\" rx=\"74.99\" ry=\"18\"/>\n",
              "<text text-anchor=\"middle\" x=\"104.64\" y=\"-882.3\" font-family=\"Times New Roman,serif\" font-size=\"14.00\">Waiting to Exhale</text>\n",
              "</g>\n",
              "<!-- Snow days -->\n",
              "<g id=\"node6\" class=\"node\">\n",
              "<title>Snow days</title>\n",
              "<ellipse fill=\"none\" stroke=\"black\" cx=\"461.07\" cy=\"-777\" rx=\"51.19\" ry=\"18\"/>\n",
              "<text text-anchor=\"middle\" x=\"461.07\" y=\"-773.3\" font-family=\"Times New Roman,serif\" font-size=\"14.00\">Snow days</text>\n",
              "</g>\n",
              "<!-- Waiting to Exhale&#45;&gt;Snow days -->\n",
              "<g id=\"edge18\" class=\"edge\">\n",
              "<title>Waiting to Exhale&#45;&gt;Snow days</title>\n",
              "<path fill=\"none\" stroke=\"black\" d=\"M141.81,-870.27C165.86,-860.03 198.23,-846.64 227.28,-836 269.38,-820.58 279.92,-816.4 323.28,-805 349.86,-798.01 379.73,-791.72 404.76,-786.88\"/>\n",
              "<polygon fill=\"black\" stroke=\"black\" points=\"405.64,-790.28 414.81,-784.96 404.33,-783.4 405.64,-790.28\"/>\n",
              "<text text-anchor=\"middle\" x=\"266.28\" y=\"-839.8\" font-family=\"Times New Roman,serif\" font-size=\"14.00\">similar_movie</text>\n",
              "</g>\n",
              "<!-- About Last Night... -->\n",
              "<g id=\"node9\" class=\"node\">\n",
              "<title>About Last Night...</title>\n",
              "<ellipse fill=\"none\" stroke=\"black\" cx=\"461.07\" cy=\"-994\" rx=\"81.49\" ry=\"18\"/>\n",
              "<text text-anchor=\"middle\" x=\"461.07\" y=\"-990.3\" font-family=\"Times New Roman,serif\" font-size=\"14.00\">About Last Night...</text>\n",
              "</g>\n",
              "<!-- Waiting to Exhale&#45;&gt;About Last Night... -->\n",
              "<g id=\"edge4\" class=\"edge\">\n",
              "<title>Waiting to Exhale&#45;&gt;About Last Night...</title>\n",
              "<path fill=\"none\" stroke=\"black\" d=\"M142.68,-901.61C166.66,-911.54 198.65,-924.47 227.28,-935 269.49,-950.52 279.8,-955.51 323.28,-967 343.49,-972.34 365.64,-977.15 386.11,-981.18\"/>\n",
              "<polygon fill=\"black\" stroke=\"black\" points=\"385.52,-984.63 396.01,-983.09 386.85,-977.76 385.52,-984.63\"/>\n",
              "<text text-anchor=\"middle\" x=\"266.28\" y=\"-964.8\" font-family=\"Times New Roman,serif\" font-size=\"14.00\">similar_movie</text>\n",
              "</g>\n",
              "<!-- Worth Winning -->\n",
              "<g id=\"node14\" class=\"node\">\n",
              "<title>Worth Winning</title>\n",
              "<ellipse fill=\"none\" stroke=\"black\" cx=\"461.07\" cy=\"-940\" rx=\"66.89\" ry=\"18\"/>\n",
              "<text text-anchor=\"middle\" x=\"461.07\" y=\"-936.3\" font-family=\"Times New Roman,serif\" font-size=\"14.00\">Worth Winning</text>\n",
              "</g>\n",
              "<!-- Waiting to Exhale&#45;&gt;Worth Winning -->\n",
              "<g id=\"edge9\" class=\"edge\">\n",
              "<title>Waiting to Exhale&#45;&gt;Worth Winning</title>\n",
              "<path fill=\"none\" stroke=\"black\" d=\"M167.82,-895.78C186.9,-898.76 207.95,-902.04 227.28,-905 282.79,-913.51 345.78,-922.97 392.23,-929.9\"/>\n",
              "<polygon fill=\"black\" stroke=\"black\" points=\"391.77,-933.37 402.18,-931.39 392.8,-926.45 391.77,-933.37\"/>\n",
              "<text text-anchor=\"middle\" x=\"266.28\" y=\"-919.8\" font-family=\"Times New Roman,serif\" font-size=\"14.00\">similar_movie</text>\n",
              "</g>\n",
              "<!-- The Girl -->\n",
              "<g id=\"node17\" class=\"node\">\n",
              "<title>The Girl</title>\n",
              "<ellipse fill=\"none\" stroke=\"black\" cx=\"461.07\" cy=\"-886\" rx=\"40.89\" ry=\"18\"/>\n",
              "<text text-anchor=\"middle\" x=\"461.07\" y=\"-882.3\" font-family=\"Times New Roman,serif\" font-size=\"14.00\">The Girl</text>\n",
              "</g>\n",
              "<!-- Waiting to Exhale&#45;&gt;The Girl -->\n",
              "<g id=\"edge12\" class=\"edge\">\n",
              "<title>Waiting to Exhale&#45;&gt;The Girl</title>\n",
              "<path fill=\"none\" stroke=\"black\" d=\"M179.51,-886C248.55,-886 349.76,-886 409.87,-886\"/>\n",
              "<polygon fill=\"black\" stroke=\"black\" points=\"409.88,-889.5 419.88,-886 409.88,-882.5 409.88,-889.5\"/>\n",
              "<text text-anchor=\"middle\" x=\"266.28\" y=\"-889.8\" font-family=\"Times New Roman,serif\" font-size=\"14.00\">similar_movie</text>\n",
              "</g>\n",
              "<!-- Next Stop Wonderland -->\n",
              "<g id=\"node25\" class=\"node\">\n",
              "<title>Next Stop Wonderland</title>\n",
              "<ellipse fill=\"none\" stroke=\"black\" cx=\"461.07\" cy=\"-832\" rx=\"94.78\" ry=\"18\"/>\n",
              "<text text-anchor=\"middle\" x=\"461.07\" y=\"-828.3\" font-family=\"Times New Roman,serif\" font-size=\"14.00\">Next Stop Wonderland</text>\n",
              "</g>\n",
              "<!-- Waiting to Exhale&#45;&gt;Next Stop Wonderland -->\n",
              "<g id=\"edge21\" class=\"edge\">\n",
              "<title>Waiting to Exhale&#45;&gt;Next Stop Wonderland</title>\n",
              "<path fill=\"none\" stroke=\"black\" d=\"M167.82,-876.22C186.9,-873.24 207.95,-869.96 227.28,-867 276.47,-859.46 331.53,-851.17 375.75,-844.56\"/>\n",
              "<polygon fill=\"black\" stroke=\"black\" points=\"376.51,-847.98 385.88,-843.04 375.47,-841.06 376.51,-847.98\"/>\n",
              "<text text-anchor=\"middle\" x=\"266.28\" y=\"-870.8\" font-family=\"Times New Roman,serif\" font-size=\"14.00\">similar_movie</text>\n",
              "</g>\n",
              "<!-- Grumpier Old Men -->\n",
              "<g id=\"node4\" class=\"node\">\n",
              "<title>Grumpier Old Men</title>\n",
              "<ellipse fill=\"none\" stroke=\"black\" cx=\"104.64\" cy=\"-666\" rx=\"79.89\" ry=\"18\"/>\n",
              "<text text-anchor=\"middle\" x=\"104.64\" y=\"-662.3\" font-family=\"Times New Roman,serif\" font-size=\"14.00\">Grumpier Old Men</text>\n",
              "</g>\n",
              "<!-- Grumpier Old Men&#45;&gt;Snow days -->\n",
              "<g id=\"edge1\" class=\"edge\">\n",
              "<title>Grumpier Old Men&#45;&gt;Snow days</title>\n",
              "<path fill=\"none\" stroke=\"black\" d=\"M143.22,-681.83C167.14,-691.73 198.86,-704.55 227.28,-715 269.49,-730.52 279.92,-735.05 323.28,-747 350.17,-754.41 380.42,-761.2 405.62,-766.44\"/>\n",
              "<polygon fill=\"black\" stroke=\"black\" points=\"405.23,-769.93 415.73,-768.52 406.64,-763.08 405.23,-769.93\"/>\n",
              "<text text-anchor=\"middle\" x=\"266.28\" y=\"-744.8\" font-family=\"Times New Roman,serif\" font-size=\"14.00\">similar_movie</text>\n",
              "</g>\n",
              "<!-- Grumpy Old Men -->\n",
              "<g id=\"node7\" class=\"node\">\n",
              "<title>Grumpy Old Men</title>\n",
              "<ellipse fill=\"none\" stroke=\"black\" cx=\"461.07\" cy=\"-720\" rx=\"75.29\" ry=\"18\"/>\n",
              "<text text-anchor=\"middle\" x=\"461.07\" y=\"-716.3\" font-family=\"Times New Roman,serif\" font-size=\"14.00\">Grumpy Old Men</text>\n",
              "</g>\n",
              "<!-- Grumpier Old Men&#45;&gt;Grumpy Old Men -->\n",
              "<g id=\"edge2\" class=\"edge\">\n",
              "<title>Grumpier Old Men&#45;&gt;Grumpy Old Men</title>\n",
              "<path fill=\"none\" stroke=\"black\" d=\"M170.65,-676.22C188.96,-679.09 208.9,-682.18 227.28,-685 280.42,-693.15 340.42,-702.16 386.19,-709\"/>\n",
              "<polygon fill=\"black\" stroke=\"black\" points=\"385.92,-712.5 396.33,-710.52 386.95,-705.58 385.92,-712.5\"/>\n",
              "<text text-anchor=\"middle\" x=\"266.28\" y=\"-699.8\" font-family=\"Times New Roman,serif\" font-size=\"14.00\">similar_movie</text>\n",
              "</g>\n",
              "<!-- Peculiarities of the National Fishing -->\n",
              "<g id=\"node11\" class=\"node\">\n",
              "<title>Peculiarities of the National Fishing</title>\n",
              "<ellipse fill=\"none\" stroke=\"black\" cx=\"461.07\" cy=\"-666\" rx=\"137.58\" ry=\"18\"/>\n",
              "<text text-anchor=\"middle\" x=\"461.07\" y=\"-662.3\" font-family=\"Times New Roman,serif\" font-size=\"14.00\">Peculiarities of the National Fishing</text>\n",
              "</g>\n",
              "<!-- Grumpier Old Men&#45;&gt;Peculiarities of the National Fishing -->\n",
              "<g id=\"edge6\" class=\"edge\">\n",
              "<title>Grumpier Old Men&#45;&gt;Peculiarities of the National Fishing</title>\n",
              "<path fill=\"none\" stroke=\"black\" d=\"M184.74,-666C222.5,-666 268.94,-666 312.85,-666\"/>\n",
              "<polygon fill=\"black\" stroke=\"black\" points=\"313.06,-669.5 323.06,-666 313.06,-662.5 313.06,-669.5\"/>\n",
              "<text text-anchor=\"middle\" x=\"266.28\" y=\"-669.8\" font-family=\"Times New Roman,serif\" font-size=\"14.00\">similar_movie</text>\n",
              "</g>\n",
              "<!-- Gone Fishin&#39; -->\n",
              "<g id=\"node19\" class=\"node\">\n",
              "<title>Gone Fishin&#39;</title>\n",
              "<ellipse fill=\"none\" stroke=\"black\" cx=\"461.07\" cy=\"-612\" rx=\"57.39\" ry=\"18\"/>\n",
              "<text text-anchor=\"middle\" x=\"461.07\" y=\"-608.3\" font-family=\"Times New Roman,serif\" font-size=\"14.00\">Gone Fishin&#39;</text>\n",
              "</g>\n",
              "<!-- Grumpier Old Men&#45;&gt;Gone Fishin&#39; -->\n",
              "<g id=\"edge14\" class=\"edge\">\n",
              "<title>Grumpier Old Men&#45;&gt;Gone Fishin&#39;</title>\n",
              "<path fill=\"none\" stroke=\"black\" d=\"M170.65,-655.78C188.96,-652.91 208.9,-649.82 227.28,-647 285.43,-638.09 351.78,-628.13 398.73,-621.12\"/>\n",
              "<polygon fill=\"black\" stroke=\"black\" points=\"399.36,-624.57 408.74,-619.63 398.33,-617.65 399.36,-624.57\"/>\n",
              "<text text-anchor=\"middle\" x=\"266.28\" y=\"-650.8\" font-family=\"Times New Roman,serif\" font-size=\"14.00\">similar_movie</text>\n",
              "</g>\n",
              "<!-- The Incredible Mr. Limpet -->\n",
              "<g id=\"node20\" class=\"node\">\n",
              "<title>The Incredible Mr. Limpet</title>\n",
              "<ellipse fill=\"none\" stroke=\"black\" cx=\"461.07\" cy=\"-558\" rx=\"106.68\" ry=\"18\"/>\n",
              "<text text-anchor=\"middle\" x=\"461.07\" y=\"-554.3\" font-family=\"Times New Roman,serif\" font-size=\"14.00\">The Incredible Mr. Limpet</text>\n",
              "</g>\n",
              "<!-- Grumpier Old Men&#45;&gt;The Incredible Mr. Limpet -->\n",
              "<g id=\"edge15\" class=\"edge\">\n",
              "<title>Grumpier Old Men&#45;&gt;The Incredible Mr. Limpet</title>\n",
              "<path fill=\"none\" stroke=\"black\" d=\"M142.35,-650.04C166.33,-639.83 198.45,-626.56 227.28,-616 269.38,-600.58 279.88,-596.25 323.28,-585 340.22,-580.61 358.51,-576.54 376.03,-572.97\"/>\n",
              "<polygon fill=\"black\" stroke=\"black\" points=\"377.12,-576.32 386.24,-570.93 375.74,-569.46 377.12,-576.32\"/>\n",
              "<text text-anchor=\"middle\" x=\"266.28\" y=\"-619.8\" font-family=\"Times New Roman,serif\" font-size=\"14.00\">similar_movie</text>\n",
              "</g>\n",
              "<!-- Jumanji -->\n",
              "<g id=\"node5\" class=\"node\">\n",
              "<title>Jumanji</title>\n",
              "<ellipse fill=\"none\" stroke=\"black\" cx=\"104.64\" cy=\"-1156\" rx=\"37.89\" ry=\"18\"/>\n",
              "<text text-anchor=\"middle\" x=\"104.64\" y=\"-1152.3\" font-family=\"Times New Roman,serif\" font-size=\"14.00\">Jumanji</text>\n",
              "</g>\n",
              "<!-- Brainscan -->\n",
              "<g id=\"node8\" class=\"node\">\n",
              "<title>Brainscan</title>\n",
              "<ellipse fill=\"none\" stroke=\"black\" cx=\"461.07\" cy=\"-1264\" rx=\"46.29\" ry=\"18\"/>\n",
              "<text text-anchor=\"middle\" x=\"461.07\" y=\"-1260.3\" font-family=\"Times New Roman,serif\" font-size=\"14.00\">Brainscan</text>\n",
              "</g>\n",
              "<!-- Jumanji&#45;&gt;Brainscan -->\n",
              "<g id=\"edge3\" class=\"edge\">\n",
              "<title>Jumanji&#45;&gt;Brainscan</title>\n",
              "<path fill=\"none\" stroke=\"black\" d=\"M133.47,-1167.78C158.01,-1178.02 194.8,-1193.06 227.28,-1205 269.49,-1220.52 279.8,-1225.51 323.28,-1237 351.07,-1244.34 382.51,-1250.68 408.23,-1255.37\"/>\n",
              "<polygon fill=\"black\" stroke=\"black\" points=\"407.69,-1258.83 418.15,-1257.15 408.93,-1251.94 407.69,-1258.83\"/>\n",
              "<text text-anchor=\"middle\" x=\"266.28\" y=\"-1234.8\" font-family=\"Times New Roman,serif\" font-size=\"14.00\">similar_movie</text>\n",
              "</g>\n",
              "<!-- Dungeons &amp; Dragons -->\n",
              "<g id=\"node16\" class=\"node\">\n",
              "<title>Dungeons &amp; Dragons</title>\n",
              "<ellipse fill=\"none\" stroke=\"black\" cx=\"461.07\" cy=\"-1210\" rx=\"90.18\" ry=\"18\"/>\n",
              "<text text-anchor=\"middle\" x=\"461.07\" y=\"-1206.3\" font-family=\"Times New Roman,serif\" font-size=\"14.00\">Dungeons &amp; Dragons</text>\n",
              "</g>\n",
              "<!-- Jumanji&#45;&gt;Dungeons &amp; Dragons -->\n",
              "<g id=\"edge11\" class=\"edge\">\n",
              "<title>Jumanji&#45;&gt;Dungeons &amp; Dragons</title>\n",
              "<path fill=\"none\" stroke=\"black\" d=\"M140.76,-1161.54C165.06,-1165.36 198.13,-1170.53 227.28,-1175 277.42,-1182.68 333.66,-1191.14 378.3,-1197.82\"/>\n",
              "<polygon fill=\"black\" stroke=\"black\" points=\"377.81,-1201.29 388.22,-1199.31 378.85,-1194.37 377.81,-1201.29\"/>\n",
              "<text text-anchor=\"middle\" x=\"266.28\" y=\"-1189.8\" font-family=\"Times New Roman,serif\" font-size=\"14.00\">similar_movie</text>\n",
              "</g>\n",
              "<!-- The Last Starfighter -->\n",
              "<g id=\"node18\" class=\"node\">\n",
              "<title>The Last Starfighter</title>\n",
              "<ellipse fill=\"none\" stroke=\"black\" cx=\"461.07\" cy=\"-1156\" rx=\"83.39\" ry=\"18\"/>\n",
              "<text text-anchor=\"middle\" x=\"461.07\" y=\"-1152.3\" font-family=\"Times New Roman,serif\" font-size=\"14.00\">The Last Starfighter</text>\n",
              "</g>\n",
              "<!-- Jumanji&#45;&gt;The Last Starfighter -->\n",
              "<g id=\"edge13\" class=\"edge\">\n",
              "<title>Jumanji&#45;&gt;The Last Starfighter</title>\n",
              "<path fill=\"none\" stroke=\"black\" d=\"M142.57,-1156C195.32,-1156 293.96,-1156 367.36,-1156\"/>\n",
              "<polygon fill=\"black\" stroke=\"black\" points=\"367.54,-1159.5 377.54,-1156 367.54,-1152.5 367.54,-1159.5\"/>\n",
              "<text text-anchor=\"middle\" x=\"266.28\" y=\"-1159.8\" font-family=\"Times New Roman,serif\" font-size=\"14.00\">similar_movie</text>\n",
              "</g>\n",
              "<!-- Word Wars -->\n",
              "<g id=\"node26\" class=\"node\">\n",
              "<title>Word Wars</title>\n",
              "<ellipse fill=\"none\" stroke=\"black\" cx=\"461.07\" cy=\"-1102\" rx=\"53.89\" ry=\"18\"/>\n",
              "<text text-anchor=\"middle\" x=\"461.07\" y=\"-1098.3\" font-family=\"Times New Roman,serif\" font-size=\"14.00\">Word Wars</text>\n",
              "</g>\n",
              "<!-- Jumanji&#45;&gt;Word Wars -->\n",
              "<g id=\"edge22\" class=\"edge\">\n",
              "<title>Jumanji&#45;&gt;Word Wars</title>\n",
              "<path fill=\"none\" stroke=\"black\" d=\"M140.76,-1150.46C165.06,-1146.64 198.13,-1141.47 227.28,-1137 286.56,-1127.91 354.36,-1117.75 401.44,-1110.72\"/>\n",
              "<polygon fill=\"black\" stroke=\"black\" points=\"402.08,-1114.16 411.46,-1109.23 401.05,-1107.24 402.08,-1114.16\"/>\n",
              "<text text-anchor=\"middle\" x=\"266.28\" y=\"-1140.8\" font-family=\"Times New Roman,serif\" font-size=\"14.00\">similar_movie</text>\n",
              "</g>\n",
              "<!-- Rollerball -->\n",
              "<g id=\"node28\" class=\"node\">\n",
              "<title>Rollerball</title>\n",
              "<ellipse fill=\"none\" stroke=\"black\" cx=\"461.07\" cy=\"-1048\" rx=\"45.49\" ry=\"18\"/>\n",
              "<text text-anchor=\"middle\" x=\"461.07\" y=\"-1044.3\" font-family=\"Times New Roman,serif\" font-size=\"14.00\">Rollerball</text>\n",
              "</g>\n",
              "<!-- Jumanji&#45;&gt;Rollerball -->\n",
              "<g id=\"edge24\" class=\"edge\">\n",
              "<title>Jumanji&#45;&gt;Rollerball</title>\n",
              "<path fill=\"none\" stroke=\"black\" d=\"M132.94,-1144.07C157.44,-1133.53 194.48,-1118.02 227.28,-1106 269.38,-1090.58 279.88,-1086.25 323.28,-1075 351.31,-1067.73 383.01,-1061.36 408.83,-1056.64\"/>\n",
              "<polygon fill=\"black\" stroke=\"black\" points=\"409.56,-1060.06 418.78,-1054.84 408.32,-1053.17 409.56,-1060.06\"/>\n",
              "<text text-anchor=\"middle\" x=\"266.28\" y=\"-1109.8\" font-family=\"Times New Roman,serif\" font-size=\"14.00\">similar_movie</text>\n",
              "</g>\n",
              "</g>\n",
              "</svg>\n"
            ],
            "text/plain": [
              "<graphviz.graphs.Digraph at 0x146ba213810>"
            ]
          },
          "execution_count": 74,
          "metadata": {},
          "output_type": "execute_result"
        }
      ],
      "source": [
        "from graphviz import Digraph\n",
        "\n",
        "def draw_knowledge_graph(df):\n",
        "    dot = Digraph(format='svg', graph_attr={'rankdir': 'LR'})  # LR = left to right\n",
        "\n",
        "    # Define nodes and edges based on the DataFrame\n",
        "    nodes = set(df['title'])  # Assuming 'movie_title' is the column containing movie titles\n",
        "    edges = set()\n",
        "    for index, row in df.iterrows():\n",
        "        movie_title = row['title']\n",
        "        recommendations = row['recommended_movies']\n",
        "        for recommendation in recommendations:\n",
        "            edges.add((movie_title, recommendation))\n",
        "\n",
        "    # Add nodes to the graph\n",
        "    for node in nodes:\n",
        "        dot.node(name=node, label=node, shape='oval')\n",
        "\n",
        "    # Add edges to the graph\n",
        "    for edge in edges:\n",
        "        dot.edge(edge[0], edge[1], label='similar_movie')\n",
        "\n",
        "    return dot\n",
        "\n",
        "draw_knowledge_graph(recommendations_df[:5])"
      ]
    },
    {
      "cell_type": "code",
      "execution_count": 75,
      "metadata": {},
      "outputs": [
        {
          "data": {
            "text/plain": [
              "'F:\\\\Test_Environment\\\\RECSYS-GEmbeddings\\\\knowledge_graph_content_5.png'"
            ]
          },
          "execution_count": 75,
          "metadata": {},
          "output_type": "execute_result"
        }
      ],
      "source": [
        "graph = draw_knowledge_graph(recommendations_df[:5])\n",
        "output_path = 'F:/Test_Environment/RECSYS-GEmbeddings/knowledge_graph_content_5'\n",
        "graph.render(output_path, format='png', cleanup=True)"
      ]
    },
    {
      "cell_type": "code",
      "execution_count": 76,
      "metadata": {},
      "outputs": [
        {
          "data": {
            "text/plain": [
              "'F:\\\\Test_Environment\\\\RECSYS-GEmbeddings\\\\knowledge_graph_content_2.png'"
            ]
          },
          "execution_count": 76,
          "metadata": {},
          "output_type": "execute_result"
        }
      ],
      "source": [
        "graph = draw_knowledge_graph(recommendations_df[2:4])\n",
        "output_path = 'F:/Test_Environment/RECSYS-GEmbeddings/knowledge_graph_content_2'\n",
        "graph.render(output_path, format='png', cleanup=True)"
      ]
    },
    {
      "cell_type": "code",
      "execution_count": 77,
      "metadata": {},
      "outputs": [],
      "source": [
        "G = nx.Graph()\n",
        "for index, row in recommendations_df.iterrows():\n",
        "    movie_title = row['title']\n",
        "    recommendations = row['recommended_movies']\n",
        "    \n",
        "    # Add movie title as node\n",
        "    G.add_node(movie_title)\n",
        "    \n",
        "    # Add recommendation titles as nodes\n",
        "    for recommendation in recommendations:\n",
        "        G.add_node(recommendation)\n",
        "        \n",
        "        # Add edges connecting movie title to its recommendations\n",
        "        G.add_edge(movie_title, recommendation, connection='similar_movie')"
      ]
    },
    {
      "cell_type": "code",
      "execution_count": 78,
      "metadata": {},
      "outputs": [],
      "source": [
        "def get_recommendations(G, movie_title):\n",
        "    try:\n",
        "        recommendations = list(G.neighbors(movie_title))\n",
        "        return recommendations\n",
        "    except nx.NetworkXError:\n",
        "        return f\"Movie '{movie_title}' not found in the graph.\""
      ]
    },
    {
      "cell_type": "code",
      "execution_count": 79,
      "metadata": {},
      "outputs": [
        {
          "data": {
            "text/html": [
              "<div>\n",
              "<style scoped>\n",
              "    .dataframe tbody tr th:only-of-type {\n",
              "        vertical-align: middle;\n",
              "    }\n",
              "\n",
              "    .dataframe tbody tr th {\n",
              "        vertical-align: top;\n",
              "    }\n",
              "\n",
              "    .dataframe thead th {\n",
              "        text-align: right;\n",
              "    }\n",
              "</style>\n",
              "<table border=\"1\" class=\"dataframe\">\n",
              "  <thead>\n",
              "    <tr style=\"text-align: right;\">\n",
              "      <th></th>\n",
              "      <th>title</th>\n",
              "      <th>recommended_movies</th>\n",
              "    </tr>\n",
              "  </thead>\n",
              "  <tbody>\n",
              "    <tr>\n",
              "      <th>6315</th>\n",
              "      <td>Good Burger</td>\n",
              "      <td>[Snow Day, A Smile Like Yours, Better Living, ...</td>\n",
              "    </tr>\n",
              "    <tr>\n",
              "      <th>672</th>\n",
              "      <td>Windows</td>\n",
              "      <td>[The Girl, The Proprietor, Slaves of New York,...</td>\n",
              "    </tr>\n",
              "    <tr>\n",
              "      <th>3666</th>\n",
              "      <td>Blow-Up</td>\n",
              "      <td>[Eyes of Laura Mars, Camera Obscura, At First ...</td>\n",
              "    </tr>\n",
              "    <tr>\n",
              "      <th>2641</th>\n",
              "      <td>Wanted: Dead or Alive</td>\n",
              "      <td>[Gone in Sixty Seconds, Wolf, A Double Life, T...</td>\n",
              "    </tr>\n",
              "    <tr>\n",
              "      <th>2984</th>\n",
              "      <td>Fatal Attraction</td>\n",
              "      <td>[The Girl, The Temp, Poison Ivy: The New Seduc...</td>\n",
              "    </tr>\n",
              "  </tbody>\n",
              "</table>\n",
              "</div>"
            ],
            "text/plain": [
              "                      title                                 recommended_movies\n",
              "6315            Good Burger  [Snow Day, A Smile Like Yours, Better Living, ...\n",
              "672                 Windows  [The Girl, The Proprietor, Slaves of New York,...\n",
              "3666                Blow-Up  [Eyes of Laura Mars, Camera Obscura, At First ...\n",
              "2641  Wanted: Dead or Alive  [Gone in Sixty Seconds, Wolf, A Double Life, T...\n",
              "2984       Fatal Attraction  [The Girl, The Temp, Poison Ivy: The New Seduc..."
            ]
          },
          "execution_count": 79,
          "metadata": {},
          "output_type": "execute_result"
        }
      ],
      "source": [
        "recommendations_df.sample(5)"
      ]
    },
    {
      "cell_type": "code",
      "execution_count": 80,
      "metadata": {},
      "outputs": [
        {
          "name": "stdout",
          "output_type": "stream",
          "text": [
            "Recommendations for The Marathon Family:\n",
            "-----------------------------------------------\n",
            "1. Little Big Man\n",
            "2. Eulogy\n",
            "3. No Looking Back\n",
            "4. House II: The Second Story\n",
            "5. McHale's Navy\n",
            "6. Around the Bend\n",
            "7. The Flower of Evil\n"
          ]
        }
      ],
      "source": [
        "movie_title = 'The Marathon Family'\n",
        "graph_recommendations = get_recommendations(G, movie_title)\n",
        "print(f\"Recommendations for {movie_title}:\")\n",
        "print('-----------------------------------------------')\n",
        "for i, m in enumerate(graph_recommendations):\n",
        "    print(f'{i+1}. {m}')"
      ]
    },
    {
      "cell_type": "code",
      "execution_count": 81,
      "metadata": {},
      "outputs": [],
      "source": [
        "G_directional = nx.DiGraph()\n",
        "\n",
        "# adding nodes to graph\n",
        "for index, row in recommendations_df.iterrows():\n",
        "    movie_title = row['title']\n",
        "    recommendations = row['recommended_movies']\n",
        "    \n",
        "    G_directional.add_node(movie_title)\n",
        "    for recommendation in recommendations:\n",
        "        G_directional.add_node(recommendation)\n",
        "        G_directional.add_edge(movie_title, recommendation, connection='similar_movie')"
      ]
    },
    {
      "cell_type": "code",
      "execution_count": 82,
      "metadata": {},
      "outputs": [],
      "source": [
        "def get_most_similar_recommendations(G_directional, movie_title, connection_type='similar_movie'):\n",
        "    if movie_title not in G_directional:\n",
        "        return f\"Movie '{movie_title}' not found in the graph.\"\n",
        "    \n",
        "    recommendations = []\n",
        "    for neighbor in G_directional.successors(movie_title):\n",
        "        if G_directional[movie_title][neighbor].get('connection') == connection_type:\n",
        "            recommendations.append(neighbor)\n",
        "    \n",
        "    return recommendations"
      ]
    },
    {
      "cell_type": "code",
      "execution_count": 83,
      "metadata": {},
      "outputs": [
        {
          "name": "stdout",
          "output_type": "stream",
          "text": [
            "Most Similar Recommendations for The Marathon Family:\n",
            "-------------------------------------------------------\n",
            "1. Eulogy\n",
            "2. No Looking Back\n",
            "3. House II: The Second Story\n",
            "4. McHale's Navy\n",
            "5. Around the Bend\n"
          ]
        }
      ],
      "source": [
        "movie_title = 'The Marathon Family'\n",
        "directed_graph_recommendations = get_most_similar_recommendations(G_directional, movie_title)\n",
        "print(f\"Most Similar Recommendations for {movie_title}:\")\n",
        "print('-------------------------------------------------------')\n",
        "for i, m in enumerate(directed_graph_recommendations):\n",
        "    print(f'{i+1}. {m}')"
      ]
    }
  ],
  "metadata": {
    "accelerator": "TPU",
    "colab": {
      "gpuType": "V28",
      "provenance": []
    },
    "kernelspec": {
      "display_name": "Python 3",
      "name": "python3"
    },
    "language_info": {
      "codemirror_mode": {
        "name": "ipython",
        "version": 3
      },
      "file_extension": ".py",
      "mimetype": "text/x-python",
      "name": "python",
      "nbconvert_exporter": "python",
      "pygments_lexer": "ipython3",
      "version": "3.11.3"
    }
  },
  "nbformat": 4,
  "nbformat_minor": 0
}
